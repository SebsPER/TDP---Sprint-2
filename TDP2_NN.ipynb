{
  "nbformat": 4,
  "nbformat_minor": 0,
  "metadata": {
    "colab": {
      "provenance": [],
      "collapsed_sections": [],
      "toc_visible": true
    },
    "kernelspec": {
      "name": "python3",
      "display_name": "Python 3"
    },
    "language_info": {
      "name": "python"
    }
  },
  "cells": [
    {
      "cell_type": "code",
      "execution_count": null,
      "metadata": {
        "id": "Qg_8Nu_M6aHD"
      },
      "outputs": [],
      "source": [
        "import pandas as pd\n",
        "import numpy as np\n",
        "from sklearn import model_selection\n",
        "import seaborn as sns\n",
        "import tensorflow as tf\n",
        "import matplotlib.pyplot as plt"
      ]
    },
    {
      "cell_type": "markdown",
      "source": [
        "# Cargar el dataset"
      ],
      "metadata": {
        "id": "8c4XbcM65GQd"
      }
    },
    {
      "cell_type": "code",
      "source": [
        "data = pd.read_csv('Data ML - DATA SET.csv')\n",
        "data = data.sample(frac=1)"
      ],
      "metadata": {
        "id": "6_mYXCWq7DdN"
      },
      "execution_count": null,
      "outputs": []
    },
    {
      "cell_type": "code",
      "source": [
        "data.drop('CÓDIGO - ALUMNO', inplace = True, axis=1)\n",
        "data.drop('AÑO', inplace = True, axis=1)"
      ],
      "metadata": {
        "id": "8smOAGz79HEm"
      },
      "execution_count": null,
      "outputs": []
    },
    {
      "cell_type": "code",
      "source": [
        "data.head(10)"
      ],
      "metadata": {
        "colab": {
          "base_uri": "https://localhost:8080/",
          "height": 734
        },
        "id": "5ZGLyYRO7pFt",
        "outputId": "1e4f7d56-d13e-4d0e-b3d7-06e99f7bc1aa"
      },
      "execution_count": null,
      "outputs": [
        {
          "output_type": "execute_result",
          "data": {
            "text/plain": [
              "      EDAD       SEXO NACIONALIDAD POBLACIÓN TIEMPO DE ESTUDIO  \\\n",
              "937     11   Femenino         PERÚ    Urbano       4 - 6 horas   \n",
              "655     11   Femenino         PERÚ    Urbano       4 - 6 horas   \n",
              "369      7  Masculino         PERÚ    Urbano       4 - 6 horas   \n",
              "4379    16   Femenino         PERÚ    Urbano       2 - 4 horas   \n",
              "3735    11   Femenino         PERÚ    Urbano       4 - 6 horas   \n",
              "1181     8  Masculino         PERÚ    Urbano       1 - 2 horas   \n",
              "386      8  Masculino         PERÚ    Urbano       4 - 6 horas   \n",
              "361      7  Masculino         PERÚ    Urbano       4 - 6 horas   \n",
              "2994    14  Masculino         PERÚ    Urbano       6 - 8 horas   \n",
              "4152    13  Masculino         PERÚ    Urbano       4 - 6 horas   \n",
              "\n",
              "     ACTIVIDADES EXTRACADÉMICAS TAMAÑO DE LA FAMILIA        TIPO DE VIVIENDA  \\\n",
              "937                     Ninguno                5 - 8    Conjunto Residencial   \n",
              "655                     Ninguno                5 - 8             Unifamiliar   \n",
              "369                     Ninguno                1 - 4    Conjunto Residencial   \n",
              "4379         Equipos Académicos               9 - 12    Conjunto Residencial   \n",
              "3735                    Ninguno                5 - 8    Conjunto Residencial   \n",
              "1181         Equipos Deportivos                1 - 4             Unifamiliar   \n",
              "386                     Ninguno                1 - 4    Conjunto Residencial   \n",
              "361                     Ninguno                1 - 4    Conjunto Residencial   \n",
              "2994                    Ninguno               9 - 12    Conjunto Residencial   \n",
              "4152                    Ninguno                5 - 8  Edificio Multifamiliar   \n",
              "\n",
              "     ENCARGADO DEL MENOR ESTADO CIVIL - PADRE  ...  \\\n",
              "937                Madre               Casado  ...   \n",
              "655                Padre          Conviviente  ...   \n",
              "369                Madre               Casado  ...   \n",
              "4379               Madre               Casado  ...   \n",
              "3735    Familiar Cercano                Viudo  ...   \n",
              "1181               Madre               Casado  ...   \n",
              "386                Madre               Casado  ...   \n",
              "361                Madre               Casado  ...   \n",
              "2994               Madre           Divorciado  ...   \n",
              "4152               Padre          Conviviente  ...   \n",
              "\n",
              "                    TRABAJO - MADRE NACIONALIDAD - MADRE  \\\n",
              "937                  Artes Gráficas                 PERÚ   \n",
              "655       Artesanías y Manualidades                 PERÚ   \n",
              "369             Textil y Confección                 PERÚ   \n",
              "4379  Comunicación, Imagen y Sonido                 PERÚ   \n",
              "3735           Actividades Agrarias                 PERÚ   \n",
              "1181                  Independiente                 PERÚ   \n",
              "386             Textil y Confección                 PERÚ   \n",
              "361             Textil y Confección                 PERÚ   \n",
              "2994                       Docencia                 PERÚ   \n",
              "4152                  Independiente                 PERÚ   \n",
              "\n",
              "     VIVE CON EL ESTUDIANTE - MADRE       GRADO    AÑO LECTIVO  \\\n",
              "937                              SI    PRIMARIA    SEXTO GRADO   \n",
              "655                              NO    PRIMARIA    SEXTO GRADO   \n",
              "369                              SI    PRIMARIA  SEGUNDO GRADO   \n",
              "4379                             SI  SECUNDARIA     QUINTO AÑO   \n",
              "3735                             NO    PRIMARIA    SEXTO GRADO   \n",
              "1181                             SI    PRIMARIA   TERCER GRADO   \n",
              "386                              SI    PRIMARIA   TERCER GRADO   \n",
              "361                              SI    PRIMARIA  SEGUNDO GRADO   \n",
              "2994                             SI  SECUNDARIA     TERCER AÑO   \n",
              "4152                             NO  SECUNDARIA    SEGUNDO AÑO   \n",
              "\n",
              "                                ÁREA COMPETENCIA NOTA ENFERMEDADES  \\\n",
              "937                 EDUCACIÓN FÍSICA     COM0008    A      Ninguna   \n",
              "655   CASTELLANO COMO SEGUNDA LENGUA     COM0028    A      Ninguna   \n",
              "369                       MATEMÁTICA     COM0016    A      Ninguna   \n",
              "4379            CIENCIA Y TECNOLOGÍA     COM0019    A      Ninguna   \n",
              "3735                 PERSONAL SOCIAL     COM0004    A      Ninguna   \n",
              "1181                 PERSONAL SOCIAL     COM0002    A      Ninguna   \n",
              "386                 EDUCACIÓN FÍSICA     COM0007    A      Ninguna   \n",
              "361                 EDUCACIÓN FÍSICA     COM0008    A      Ninguna   \n",
              "2994                  ARTE Y CULTURA     COM0009   AD      Ninguna   \n",
              "4152                          INGLÉS     COM0034    A      Ninguna   \n",
              "\n",
              "     TIENE NECESIDADES ESPECIALES  \n",
              "937                            NO  \n",
              "655                            NO  \n",
              "369                            NO  \n",
              "4379                           NO  \n",
              "3735                           NO  \n",
              "1181                           NO  \n",
              "386                            NO  \n",
              "361                            NO  \n",
              "2994                           NO  \n",
              "4152                           NO  \n",
              "\n",
              "[10 rows x 26 columns]"
            ],
            "text/html": [
              "\n",
              "  <div id=\"df-c828d51e-2021-4097-a744-04b7a3fc6aee\">\n",
              "    <div class=\"colab-df-container\">\n",
              "      <div>\n",
              "<style scoped>\n",
              "    .dataframe tbody tr th:only-of-type {\n",
              "        vertical-align: middle;\n",
              "    }\n",
              "\n",
              "    .dataframe tbody tr th {\n",
              "        vertical-align: top;\n",
              "    }\n",
              "\n",
              "    .dataframe thead th {\n",
              "        text-align: right;\n",
              "    }\n",
              "</style>\n",
              "<table border=\"1\" class=\"dataframe\">\n",
              "  <thead>\n",
              "    <tr style=\"text-align: right;\">\n",
              "      <th></th>\n",
              "      <th>EDAD</th>\n",
              "      <th>SEXO</th>\n",
              "      <th>NACIONALIDAD</th>\n",
              "      <th>POBLACIÓN</th>\n",
              "      <th>TIEMPO DE ESTUDIO</th>\n",
              "      <th>ACTIVIDADES EXTRACADÉMICAS</th>\n",
              "      <th>TAMAÑO DE LA FAMILIA</th>\n",
              "      <th>TIPO DE VIVIENDA</th>\n",
              "      <th>ENCARGADO DEL MENOR</th>\n",
              "      <th>ESTADO CIVIL - PADRE</th>\n",
              "      <th>...</th>\n",
              "      <th>TRABAJO - MADRE</th>\n",
              "      <th>NACIONALIDAD - MADRE</th>\n",
              "      <th>VIVE CON EL ESTUDIANTE - MADRE</th>\n",
              "      <th>GRADO</th>\n",
              "      <th>AÑO LECTIVO</th>\n",
              "      <th>ÁREA</th>\n",
              "      <th>COMPETENCIA</th>\n",
              "      <th>NOTA</th>\n",
              "      <th>ENFERMEDADES</th>\n",
              "      <th>TIENE NECESIDADES ESPECIALES</th>\n",
              "    </tr>\n",
              "  </thead>\n",
              "  <tbody>\n",
              "    <tr>\n",
              "      <th>937</th>\n",
              "      <td>11</td>\n",
              "      <td>Femenino</td>\n",
              "      <td>PERÚ</td>\n",
              "      <td>Urbano</td>\n",
              "      <td>4 - 6 horas</td>\n",
              "      <td>Ninguno</td>\n",
              "      <td>5 - 8</td>\n",
              "      <td>Conjunto Residencial</td>\n",
              "      <td>Madre</td>\n",
              "      <td>Casado</td>\n",
              "      <td>...</td>\n",
              "      <td>Artes Gráficas</td>\n",
              "      <td>PERÚ</td>\n",
              "      <td>SI</td>\n",
              "      <td>PRIMARIA</td>\n",
              "      <td>SEXTO GRADO</td>\n",
              "      <td>EDUCACIÓN FÍSICA</td>\n",
              "      <td>COM0008</td>\n",
              "      <td>A</td>\n",
              "      <td>Ninguna</td>\n",
              "      <td>NO</td>\n",
              "    </tr>\n",
              "    <tr>\n",
              "      <th>655</th>\n",
              "      <td>11</td>\n",
              "      <td>Femenino</td>\n",
              "      <td>PERÚ</td>\n",
              "      <td>Urbano</td>\n",
              "      <td>4 - 6 horas</td>\n",
              "      <td>Ninguno</td>\n",
              "      <td>5 - 8</td>\n",
              "      <td>Unifamiliar</td>\n",
              "      <td>Padre</td>\n",
              "      <td>Conviviente</td>\n",
              "      <td>...</td>\n",
              "      <td>Artesanías y Manualidades</td>\n",
              "      <td>PERÚ</td>\n",
              "      <td>NO</td>\n",
              "      <td>PRIMARIA</td>\n",
              "      <td>SEXTO GRADO</td>\n",
              "      <td>CASTELLANO COMO SEGUNDA LENGUA</td>\n",
              "      <td>COM0028</td>\n",
              "      <td>A</td>\n",
              "      <td>Ninguna</td>\n",
              "      <td>NO</td>\n",
              "    </tr>\n",
              "    <tr>\n",
              "      <th>369</th>\n",
              "      <td>7</td>\n",
              "      <td>Masculino</td>\n",
              "      <td>PERÚ</td>\n",
              "      <td>Urbano</td>\n",
              "      <td>4 - 6 horas</td>\n",
              "      <td>Ninguno</td>\n",
              "      <td>1 - 4</td>\n",
              "      <td>Conjunto Residencial</td>\n",
              "      <td>Madre</td>\n",
              "      <td>Casado</td>\n",
              "      <td>...</td>\n",
              "      <td>Textil y Confección</td>\n",
              "      <td>PERÚ</td>\n",
              "      <td>SI</td>\n",
              "      <td>PRIMARIA</td>\n",
              "      <td>SEGUNDO GRADO</td>\n",
              "      <td>MATEMÁTICA</td>\n",
              "      <td>COM0016</td>\n",
              "      <td>A</td>\n",
              "      <td>Ninguna</td>\n",
              "      <td>NO</td>\n",
              "    </tr>\n",
              "    <tr>\n",
              "      <th>4379</th>\n",
              "      <td>16</td>\n",
              "      <td>Femenino</td>\n",
              "      <td>PERÚ</td>\n",
              "      <td>Urbano</td>\n",
              "      <td>2 - 4 horas</td>\n",
              "      <td>Equipos Académicos</td>\n",
              "      <td>9 - 12</td>\n",
              "      <td>Conjunto Residencial</td>\n",
              "      <td>Madre</td>\n",
              "      <td>Casado</td>\n",
              "      <td>...</td>\n",
              "      <td>Comunicación, Imagen y Sonido</td>\n",
              "      <td>PERÚ</td>\n",
              "      <td>SI</td>\n",
              "      <td>SECUNDARIA</td>\n",
              "      <td>QUINTO AÑO</td>\n",
              "      <td>CIENCIA Y TECNOLOGÍA</td>\n",
              "      <td>COM0019</td>\n",
              "      <td>A</td>\n",
              "      <td>Ninguna</td>\n",
              "      <td>NO</td>\n",
              "    </tr>\n",
              "    <tr>\n",
              "      <th>3735</th>\n",
              "      <td>11</td>\n",
              "      <td>Femenino</td>\n",
              "      <td>PERÚ</td>\n",
              "      <td>Urbano</td>\n",
              "      <td>4 - 6 horas</td>\n",
              "      <td>Ninguno</td>\n",
              "      <td>5 - 8</td>\n",
              "      <td>Conjunto Residencial</td>\n",
              "      <td>Familiar Cercano</td>\n",
              "      <td>Viudo</td>\n",
              "      <td>...</td>\n",
              "      <td>Actividades Agrarias</td>\n",
              "      <td>PERÚ</td>\n",
              "      <td>NO</td>\n",
              "      <td>PRIMARIA</td>\n",
              "      <td>SEXTO GRADO</td>\n",
              "      <td>PERSONAL SOCIAL</td>\n",
              "      <td>COM0004</td>\n",
              "      <td>A</td>\n",
              "      <td>Ninguna</td>\n",
              "      <td>NO</td>\n",
              "    </tr>\n",
              "    <tr>\n",
              "      <th>1181</th>\n",
              "      <td>8</td>\n",
              "      <td>Masculino</td>\n",
              "      <td>PERÚ</td>\n",
              "      <td>Urbano</td>\n",
              "      <td>1 - 2 horas</td>\n",
              "      <td>Equipos Deportivos</td>\n",
              "      <td>1 - 4</td>\n",
              "      <td>Unifamiliar</td>\n",
              "      <td>Madre</td>\n",
              "      <td>Casado</td>\n",
              "      <td>...</td>\n",
              "      <td>Independiente</td>\n",
              "      <td>PERÚ</td>\n",
              "      <td>SI</td>\n",
              "      <td>PRIMARIA</td>\n",
              "      <td>TERCER GRADO</td>\n",
              "      <td>PERSONAL SOCIAL</td>\n",
              "      <td>COM0002</td>\n",
              "      <td>A</td>\n",
              "      <td>Ninguna</td>\n",
              "      <td>NO</td>\n",
              "    </tr>\n",
              "    <tr>\n",
              "      <th>386</th>\n",
              "      <td>8</td>\n",
              "      <td>Masculino</td>\n",
              "      <td>PERÚ</td>\n",
              "      <td>Urbano</td>\n",
              "      <td>4 - 6 horas</td>\n",
              "      <td>Ninguno</td>\n",
              "      <td>1 - 4</td>\n",
              "      <td>Conjunto Residencial</td>\n",
              "      <td>Madre</td>\n",
              "      <td>Casado</td>\n",
              "      <td>...</td>\n",
              "      <td>Textil y Confección</td>\n",
              "      <td>PERÚ</td>\n",
              "      <td>SI</td>\n",
              "      <td>PRIMARIA</td>\n",
              "      <td>TERCER GRADO</td>\n",
              "      <td>EDUCACIÓN FÍSICA</td>\n",
              "      <td>COM0007</td>\n",
              "      <td>A</td>\n",
              "      <td>Ninguna</td>\n",
              "      <td>NO</td>\n",
              "    </tr>\n",
              "    <tr>\n",
              "      <th>361</th>\n",
              "      <td>7</td>\n",
              "      <td>Masculino</td>\n",
              "      <td>PERÚ</td>\n",
              "      <td>Urbano</td>\n",
              "      <td>4 - 6 horas</td>\n",
              "      <td>Ninguno</td>\n",
              "      <td>1 - 4</td>\n",
              "      <td>Conjunto Residencial</td>\n",
              "      <td>Madre</td>\n",
              "      <td>Casado</td>\n",
              "      <td>...</td>\n",
              "      <td>Textil y Confección</td>\n",
              "      <td>PERÚ</td>\n",
              "      <td>SI</td>\n",
              "      <td>PRIMARIA</td>\n",
              "      <td>SEGUNDO GRADO</td>\n",
              "      <td>EDUCACIÓN FÍSICA</td>\n",
              "      <td>COM0008</td>\n",
              "      <td>A</td>\n",
              "      <td>Ninguna</td>\n",
              "      <td>NO</td>\n",
              "    </tr>\n",
              "    <tr>\n",
              "      <th>2994</th>\n",
              "      <td>14</td>\n",
              "      <td>Masculino</td>\n",
              "      <td>PERÚ</td>\n",
              "      <td>Urbano</td>\n",
              "      <td>6 - 8 horas</td>\n",
              "      <td>Ninguno</td>\n",
              "      <td>9 - 12</td>\n",
              "      <td>Conjunto Residencial</td>\n",
              "      <td>Madre</td>\n",
              "      <td>Divorciado</td>\n",
              "      <td>...</td>\n",
              "      <td>Docencia</td>\n",
              "      <td>PERÚ</td>\n",
              "      <td>SI</td>\n",
              "      <td>SECUNDARIA</td>\n",
              "      <td>TERCER AÑO</td>\n",
              "      <td>ARTE Y CULTURA</td>\n",
              "      <td>COM0009</td>\n",
              "      <td>AD</td>\n",
              "      <td>Ninguna</td>\n",
              "      <td>NO</td>\n",
              "    </tr>\n",
              "    <tr>\n",
              "      <th>4152</th>\n",
              "      <td>13</td>\n",
              "      <td>Masculino</td>\n",
              "      <td>PERÚ</td>\n",
              "      <td>Urbano</td>\n",
              "      <td>4 - 6 horas</td>\n",
              "      <td>Ninguno</td>\n",
              "      <td>5 - 8</td>\n",
              "      <td>Edificio Multifamiliar</td>\n",
              "      <td>Padre</td>\n",
              "      <td>Conviviente</td>\n",
              "      <td>...</td>\n",
              "      <td>Independiente</td>\n",
              "      <td>PERÚ</td>\n",
              "      <td>NO</td>\n",
              "      <td>SECUNDARIA</td>\n",
              "      <td>SEGUNDO AÑO</td>\n",
              "      <td>INGLÉS</td>\n",
              "      <td>COM0034</td>\n",
              "      <td>A</td>\n",
              "      <td>Ninguna</td>\n",
              "      <td>NO</td>\n",
              "    </tr>\n",
              "  </tbody>\n",
              "</table>\n",
              "<p>10 rows × 26 columns</p>\n",
              "</div>\n",
              "      <button class=\"colab-df-convert\" onclick=\"convertToInteractive('df-c828d51e-2021-4097-a744-04b7a3fc6aee')\"\n",
              "              title=\"Convert this dataframe to an interactive table.\"\n",
              "              style=\"display:none;\">\n",
              "        \n",
              "  <svg xmlns=\"http://www.w3.org/2000/svg\" height=\"24px\"viewBox=\"0 0 24 24\"\n",
              "       width=\"24px\">\n",
              "    <path d=\"M0 0h24v24H0V0z\" fill=\"none\"/>\n",
              "    <path d=\"M18.56 5.44l.94 2.06.94-2.06 2.06-.94-2.06-.94-.94-2.06-.94 2.06-2.06.94zm-11 1L8.5 8.5l.94-2.06 2.06-.94-2.06-.94L8.5 2.5l-.94 2.06-2.06.94zm10 10l.94 2.06.94-2.06 2.06-.94-2.06-.94-.94-2.06-.94 2.06-2.06.94z\"/><path d=\"M17.41 7.96l-1.37-1.37c-.4-.4-.92-.59-1.43-.59-.52 0-1.04.2-1.43.59L10.3 9.45l-7.72 7.72c-.78.78-.78 2.05 0 2.83L4 21.41c.39.39.9.59 1.41.59.51 0 1.02-.2 1.41-.59l7.78-7.78 2.81-2.81c.8-.78.8-2.07 0-2.86zM5.41 20L4 18.59l7.72-7.72 1.47 1.35L5.41 20z\"/>\n",
              "  </svg>\n",
              "      </button>\n",
              "      \n",
              "  <style>\n",
              "    .colab-df-container {\n",
              "      display:flex;\n",
              "      flex-wrap:wrap;\n",
              "      gap: 12px;\n",
              "    }\n",
              "\n",
              "    .colab-df-convert {\n",
              "      background-color: #E8F0FE;\n",
              "      border: none;\n",
              "      border-radius: 50%;\n",
              "      cursor: pointer;\n",
              "      display: none;\n",
              "      fill: #1967D2;\n",
              "      height: 32px;\n",
              "      padding: 0 0 0 0;\n",
              "      width: 32px;\n",
              "    }\n",
              "\n",
              "    .colab-df-convert:hover {\n",
              "      background-color: #E2EBFA;\n",
              "      box-shadow: 0px 1px 2px rgba(60, 64, 67, 0.3), 0px 1px 3px 1px rgba(60, 64, 67, 0.15);\n",
              "      fill: #174EA6;\n",
              "    }\n",
              "\n",
              "    [theme=dark] .colab-df-convert {\n",
              "      background-color: #3B4455;\n",
              "      fill: #D2E3FC;\n",
              "    }\n",
              "\n",
              "    [theme=dark] .colab-df-convert:hover {\n",
              "      background-color: #434B5C;\n",
              "      box-shadow: 0px 1px 3px 1px rgba(0, 0, 0, 0.15);\n",
              "      filter: drop-shadow(0px 1px 2px rgba(0, 0, 0, 0.3));\n",
              "      fill: #FFFFFF;\n",
              "    }\n",
              "  </style>\n",
              "\n",
              "      <script>\n",
              "        const buttonEl =\n",
              "          document.querySelector('#df-c828d51e-2021-4097-a744-04b7a3fc6aee button.colab-df-convert');\n",
              "        buttonEl.style.display =\n",
              "          google.colab.kernel.accessAllowed ? 'block' : 'none';\n",
              "\n",
              "        async function convertToInteractive(key) {\n",
              "          const element = document.querySelector('#df-c828d51e-2021-4097-a744-04b7a3fc6aee');\n",
              "          const dataTable =\n",
              "            await google.colab.kernel.invokeFunction('convertToInteractive',\n",
              "                                                     [key], {});\n",
              "          if (!dataTable) return;\n",
              "\n",
              "          const docLinkHtml = 'Like what you see? Visit the ' +\n",
              "            '<a target=\"_blank\" href=https://colab.research.google.com/notebooks/data_table.ipynb>data table notebook</a>'\n",
              "            + ' to learn more about interactive tables.';\n",
              "          element.innerHTML = '';\n",
              "          dataTable['output_type'] = 'display_data';\n",
              "          await google.colab.output.renderOutput(dataTable, element);\n",
              "          const docLink = document.createElement('div');\n",
              "          docLink.innerHTML = docLinkHtml;\n",
              "          element.appendChild(docLink);\n",
              "        }\n",
              "      </script>\n",
              "    </div>\n",
              "  </div>\n",
              "  "
            ]
          },
          "metadata": {},
          "execution_count": 346
        }
      ]
    },
    {
      "cell_type": "code",
      "source": [
        "data.info()"
      ],
      "metadata": {
        "colab": {
          "base_uri": "https://localhost:8080/"
        },
        "id": "tbEmR9qMCWGw",
        "outputId": "26823a5e-f619-496a-83ba-5b2460025ce7"
      },
      "execution_count": null,
      "outputs": [
        {
          "output_type": "stream",
          "name": "stdout",
          "text": [
            "<class 'pandas.core.frame.DataFrame'>\n",
            "Int64Index: 4393 entries, 937 to 1258\n",
            "Data columns (total 26 columns):\n",
            " #   Column                          Non-Null Count  Dtype \n",
            "---  ------                          --------------  ----- \n",
            " 0   EDAD                            4393 non-null   int64 \n",
            " 1   SEXO                            4393 non-null   object\n",
            " 2   NACIONALIDAD                    4393 non-null   object\n",
            " 3   POBLACIÓN                       4393 non-null   object\n",
            " 4   TIEMPO DE ESTUDIO               4393 non-null   object\n",
            " 5   ACTIVIDADES EXTRACADÉMICAS      4393 non-null   object\n",
            " 6   TAMAÑO DE LA FAMILIA            4393 non-null   object\n",
            " 7   TIPO DE VIVIENDA                4393 non-null   object\n",
            " 8   ENCARGADO DEL MENOR             4393 non-null   object\n",
            " 9   ESTADO CIVIL - PADRE            4393 non-null   object\n",
            " 10  EDUCACIÓN - PADRE               4393 non-null   object\n",
            " 11  TRABAJO - PADRE                 4393 non-null   object\n",
            " 12  NACIONALIDAD - PADRE            4393 non-null   object\n",
            " 13  VIVE CON EL ESTUDIANTE - PADRE  4393 non-null   object\n",
            " 14  ESTADO CIVIL - MADRE            4393 non-null   object\n",
            " 15  EDUCACIÓN - MADRE               4393 non-null   object\n",
            " 16  TRABAJO - MADRE                 4393 non-null   object\n",
            " 17  NACIONALIDAD - MADRE            4393 non-null   object\n",
            " 18  VIVE CON EL ESTUDIANTE - MADRE  4393 non-null   object\n",
            " 19  GRADO                           4393 non-null   object\n",
            " 20  AÑO LECTIVO                     4393 non-null   object\n",
            " 21  ÁREA                            4393 non-null   object\n",
            " 22  COMPETENCIA                     4393 non-null   object\n",
            " 23  NOTA                            4393 non-null   object\n",
            " 24  ENFERMEDADES                    4393 non-null   object\n",
            " 25  TIENE NECESIDADES ESPECIALES    4393 non-null   object\n",
            "dtypes: int64(1), object(25)\n",
            "memory usage: 926.6+ KB\n"
          ]
        }
      ]
    },
    {
      "cell_type": "code",
      "source": [
        "data.describe()"
      ],
      "metadata": {
        "id": "8mMTN-sTJIqO",
        "outputId": "3f0c8f92-f6b5-481c-c1c1-3d93393174b8",
        "colab": {
          "base_uri": "https://localhost:8080/",
          "height": 300
        }
      },
      "execution_count": null,
      "outputs": [
        {
          "output_type": "execute_result",
          "data": {
            "text/plain": [
              "              EDAD\n",
              "count  4393.000000\n",
              "mean     10.676076\n",
              "std       2.266513\n",
              "min       6.000000\n",
              "25%       9.000000\n",
              "50%      11.000000\n",
              "75%      12.000000\n",
              "max      16.000000"
            ],
            "text/html": [
              "\n",
              "  <div id=\"df-6d16da26-c68f-4c45-a139-cbb057781f42\">\n",
              "    <div class=\"colab-df-container\">\n",
              "      <div>\n",
              "<style scoped>\n",
              "    .dataframe tbody tr th:only-of-type {\n",
              "        vertical-align: middle;\n",
              "    }\n",
              "\n",
              "    .dataframe tbody tr th {\n",
              "        vertical-align: top;\n",
              "    }\n",
              "\n",
              "    .dataframe thead th {\n",
              "        text-align: right;\n",
              "    }\n",
              "</style>\n",
              "<table border=\"1\" class=\"dataframe\">\n",
              "  <thead>\n",
              "    <tr style=\"text-align: right;\">\n",
              "      <th></th>\n",
              "      <th>EDAD</th>\n",
              "    </tr>\n",
              "  </thead>\n",
              "  <tbody>\n",
              "    <tr>\n",
              "      <th>count</th>\n",
              "      <td>4393.000000</td>\n",
              "    </tr>\n",
              "    <tr>\n",
              "      <th>mean</th>\n",
              "      <td>10.676076</td>\n",
              "    </tr>\n",
              "    <tr>\n",
              "      <th>std</th>\n",
              "      <td>2.266513</td>\n",
              "    </tr>\n",
              "    <tr>\n",
              "      <th>min</th>\n",
              "      <td>6.000000</td>\n",
              "    </tr>\n",
              "    <tr>\n",
              "      <th>25%</th>\n",
              "      <td>9.000000</td>\n",
              "    </tr>\n",
              "    <tr>\n",
              "      <th>50%</th>\n",
              "      <td>11.000000</td>\n",
              "    </tr>\n",
              "    <tr>\n",
              "      <th>75%</th>\n",
              "      <td>12.000000</td>\n",
              "    </tr>\n",
              "    <tr>\n",
              "      <th>max</th>\n",
              "      <td>16.000000</td>\n",
              "    </tr>\n",
              "  </tbody>\n",
              "</table>\n",
              "</div>\n",
              "      <button class=\"colab-df-convert\" onclick=\"convertToInteractive('df-6d16da26-c68f-4c45-a139-cbb057781f42')\"\n",
              "              title=\"Convert this dataframe to an interactive table.\"\n",
              "              style=\"display:none;\">\n",
              "        \n",
              "  <svg xmlns=\"http://www.w3.org/2000/svg\" height=\"24px\"viewBox=\"0 0 24 24\"\n",
              "       width=\"24px\">\n",
              "    <path d=\"M0 0h24v24H0V0z\" fill=\"none\"/>\n",
              "    <path d=\"M18.56 5.44l.94 2.06.94-2.06 2.06-.94-2.06-.94-.94-2.06-.94 2.06-2.06.94zm-11 1L8.5 8.5l.94-2.06 2.06-.94-2.06-.94L8.5 2.5l-.94 2.06-2.06.94zm10 10l.94 2.06.94-2.06 2.06-.94-2.06-.94-.94-2.06-.94 2.06-2.06.94z\"/><path d=\"M17.41 7.96l-1.37-1.37c-.4-.4-.92-.59-1.43-.59-.52 0-1.04.2-1.43.59L10.3 9.45l-7.72 7.72c-.78.78-.78 2.05 0 2.83L4 21.41c.39.39.9.59 1.41.59.51 0 1.02-.2 1.41-.59l7.78-7.78 2.81-2.81c.8-.78.8-2.07 0-2.86zM5.41 20L4 18.59l7.72-7.72 1.47 1.35L5.41 20z\"/>\n",
              "  </svg>\n",
              "      </button>\n",
              "      \n",
              "  <style>\n",
              "    .colab-df-container {\n",
              "      display:flex;\n",
              "      flex-wrap:wrap;\n",
              "      gap: 12px;\n",
              "    }\n",
              "\n",
              "    .colab-df-convert {\n",
              "      background-color: #E8F0FE;\n",
              "      border: none;\n",
              "      border-radius: 50%;\n",
              "      cursor: pointer;\n",
              "      display: none;\n",
              "      fill: #1967D2;\n",
              "      height: 32px;\n",
              "      padding: 0 0 0 0;\n",
              "      width: 32px;\n",
              "    }\n",
              "\n",
              "    .colab-df-convert:hover {\n",
              "      background-color: #E2EBFA;\n",
              "      box-shadow: 0px 1px 2px rgba(60, 64, 67, 0.3), 0px 1px 3px 1px rgba(60, 64, 67, 0.15);\n",
              "      fill: #174EA6;\n",
              "    }\n",
              "\n",
              "    [theme=dark] .colab-df-convert {\n",
              "      background-color: #3B4455;\n",
              "      fill: #D2E3FC;\n",
              "    }\n",
              "\n",
              "    [theme=dark] .colab-df-convert:hover {\n",
              "      background-color: #434B5C;\n",
              "      box-shadow: 0px 1px 3px 1px rgba(0, 0, 0, 0.15);\n",
              "      filter: drop-shadow(0px 1px 2px rgba(0, 0, 0, 0.3));\n",
              "      fill: #FFFFFF;\n",
              "    }\n",
              "  </style>\n",
              "\n",
              "      <script>\n",
              "        const buttonEl =\n",
              "          document.querySelector('#df-6d16da26-c68f-4c45-a139-cbb057781f42 button.colab-df-convert');\n",
              "        buttonEl.style.display =\n",
              "          google.colab.kernel.accessAllowed ? 'block' : 'none';\n",
              "\n",
              "        async function convertToInteractive(key) {\n",
              "          const element = document.querySelector('#df-6d16da26-c68f-4c45-a139-cbb057781f42');\n",
              "          const dataTable =\n",
              "            await google.colab.kernel.invokeFunction('convertToInteractive',\n",
              "                                                     [key], {});\n",
              "          if (!dataTable) return;\n",
              "\n",
              "          const docLinkHtml = 'Like what you see? Visit the ' +\n",
              "            '<a target=\"_blank\" href=https://colab.research.google.com/notebooks/data_table.ipynb>data table notebook</a>'\n",
              "            + ' to learn more about interactive tables.';\n",
              "          element.innerHTML = '';\n",
              "          dataTable['output_type'] = 'display_data';\n",
              "          await google.colab.output.renderOutput(dataTable, element);\n",
              "          const docLink = document.createElement('div');\n",
              "          docLink.innerHTML = docLinkHtml;\n",
              "          element.appendChild(docLink);\n",
              "        }\n",
              "      </script>\n",
              "    </div>\n",
              "  </div>\n",
              "  "
            ]
          },
          "metadata": {},
          "execution_count": 348
        }
      ]
    },
    {
      "cell_type": "markdown",
      "source": [
        "# EDA"
      ],
      "metadata": {
        "id": "7gqI8tP25DEk"
      }
    },
    {
      "cell_type": "code",
      "source": [
        "data['NOTA'].value_counts()"
      ],
      "metadata": {
        "colab": {
          "base_uri": "https://localhost:8080/"
        },
        "id": "AjAJWbFf6-FD",
        "outputId": "eb5b6f4d-7b7c-49b5-8d1e-a5cf5f3b0cb0"
      },
      "execution_count": null,
      "outputs": [
        {
          "output_type": "execute_result",
          "data": {
            "text/plain": [
              "A     3564\n",
              "AD     743\n",
              "B       85\n",
              "D        1\n",
              "Name: NOTA, dtype: int64"
            ]
          },
          "metadata": {},
          "execution_count": 349
        }
      ]
    },
    {
      "cell_type": "code",
      "source": [
        "sns.countplot(x=data['NOTA'])"
      ],
      "metadata": {
        "colab": {
          "base_uri": "https://localhost:8080/",
          "height": 296
        },
        "id": "Gdbcg9dM5E0i",
        "outputId": "8a3698a8-c387-48b8-cb22-da5f3a867993"
      },
      "execution_count": null,
      "outputs": [
        {
          "output_type": "execute_result",
          "data": {
            "text/plain": [
              "<matplotlib.axes._subplots.AxesSubplot at 0x7fe118cc4f50>"
            ]
          },
          "metadata": {},
          "execution_count": 350
        },
        {
          "output_type": "display_data",
          "data": {
            "text/plain": [
              "<Figure size 432x288 with 1 Axes>"
            ],
            "image/png": "[encoded data removed]"
          },
          "metadata": {
            "needs_background": "light"
          }
        }
      ]
    },
    {
      "cell_type": "code",
      "source": [
        "sns.countplot(x=data['TIEMPO DE ESTUDIO'])"
      ],
      "metadata": {
        "colab": {
          "base_uri": "https://localhost:8080/",
          "height": 296
        },
        "id": "WrTb-gpV8_tN",
        "outputId": "2cf9ba7e-6a4e-4cae-df57-4be388597984"
      },
      "execution_count": null,
      "outputs": [
        {
          "output_type": "execute_result",
          "data": {
            "text/plain": [
              "<matplotlib.axes._subplots.AxesSubplot at 0x7fe118e51050>"
            ]
          },
          "metadata": {},
          "execution_count": 351
        },
        {
          "output_type": "display_data",
          "data": {
            "text/plain": [
              "<Figure size 432x288 with 1 Axes>"
            ],
            "image/png": "[encoded data removed]"
          },
          "metadata": {
            "needs_background": "light"
          }
        }
      ]
    },
    {
      "cell_type": "code",
      "source": [
        "sns.countplot(x=data['ACTIVIDADES EXTRACADÉMICAS'])\n",
        "plt.xticks(rotation=45)"
      ],
      "metadata": {
        "colab": {
          "base_uri": "https://localhost:8080/",
          "height": 380
        },
        "id": "-veS-QoS9Ing",
        "outputId": "b1c98995-6545-41a8-c2b3-8a56bf4244e3"
      },
      "execution_count": null,
      "outputs": [
        {
          "output_type": "execute_result",
          "data": {
            "text/plain": [
              "(array([0, 1, 2, 3, 4]), <a list of 5 Text major ticklabel objects>)"
            ]
          },
          "metadata": {},
          "execution_count": 352
        },
        {
          "output_type": "display_data",
          "data": {
            "text/plain": [
              "<Figure size 432x288 with 1 Axes>"
            ],
            "image/png": "[encoded data removed]"
          },
          "metadata": {
            "needs_background": "light"
          }
        }
      ]
    },
    {
      "cell_type": "markdown",
      "source": [
        "# Preprocesamiento de datos"
      ],
      "metadata": {
        "id": "iJ77bImx76QL"
      }
    },
    {
      "cell_type": "markdown",
      "source": [
        "## Datos categoricos a datos numericos"
      ],
      "metadata": {
        "id": "Y7HDHiiD89hr"
      }
    },
    {
      "cell_type": "code",
      "source": [
        "data['SEXO'].replace(['Masculino', 'Femenino'], [0,1], inplace=True)\n",
        "data['NACIONALIDAD'].replace(['PERÚ', 'Extranjero'], [1,0], inplace=True)\n",
        "data['POBLACIÓN'].replace(['Urbano', 'Rural'], [0,1], inplace=True)\n",
        "data['TIEMPO DE ESTUDIO'].replace(['1 - 2 horas', '2 - 4 horas', '4 - 6 horas', '6 - 8 horas', '8 - más horas', 'Ninguno'], [1,2,3,4,5,0], inplace=True)\n",
        "data['ACTIVIDADES EXTRACADÉMICAS'].replace(['Grupos Artísticos','Equipos Deportivos','Equipos Académicos','Equipos Extracadémicos','Voluntariadados','Ninguno'], [1,2,3,4,5,0], inplace=True)\n",
        "data['TAMAÑO DE LA FAMILIA'].replace(['1 - 4','5 - 8','9 - 12','13 - más'], [1,2,3,4], inplace=True)\n",
        "data['TIPO DE VIVIENDA'].replace(['Unifamiliar','Edificio Multifamiliar','Conjunto Residencial','Quinta','Otro'], [1,2,3,4,0], inplace=True)\n",
        "data['ENCARGADO DEL MENOR'].replace(['Padre','Madre','Apoderado','Familiar Cercano','Personal Autorizado','Otro'], [1,2,3,4,5,0], inplace=True)\n",
        "data['ESTADO CIVIL - PADRE'].replace(['Soltero','Casado','Divorciado','Viudo','Conviviente'], [1,2,3,4,5], inplace=True)\n",
        "data['ESTADO CIVIL - MADRE'].replace(['Soltero','Casado','Divorciado','Viudo','Conviviente'], [1,2,3,4,5], inplace=True)\n",
        "data['EDUCACIÓN - PADRE'].replace(['Edcacion Inicial','Educacion Primaria','Educacion Secundaria',\n",
        "                                   'Educación Profesional Técnica','Grado Superior','Educación Universitaria','Ninguno'], [1,2,3,4,5,6,0], inplace=True)\n",
        "data['EDUCACIÓN - MADRE'].replace(['Edcacion Inicial','Educacion Primaria','Educacion Secundaria',\n",
        "                                   'Educación Profesional Técnica','Grado Superior','Educación Universitaria','Ninguno'], [1,2,3,4,5,6,0], inplace=True)\n",
        "data['TRABAJO - PADRE'].replace(['Administración y Comercio','Actividades Agrarias','Actividades Marítimo-Pesqueras','Artes Gráficas',\n",
        "                                 'Artesanías y Manualidades','Computación e Informática','Comunicación, Imagen y Sonido','Construcción','Cuero y Calzado',\n",
        "                                 'Electricidad y Electrónica','Estética Personal','Hostelería y Turismo','Industrias Alimentarias','Mecánica y Metales',\n",
        "                                 'Mecánica y Motores','Minería','Química','Textil y Confección','Independiente','Docencia','Medicina'], [1,2,3,4,5,6,7,8,9,10,11,12,13,14,15,16,17,18,19,20,21], inplace=True)\n",
        "data['TRABAJO - MADRE'].replace(['Administración y Comercio','Actividades Agrarias','Actividades Marítimo-Pesqueras','Artes Gráficas',\n",
        "                                 'Artesanías y Manualidades','Computación e Informática','Comunicación, Imagen y Sonido','Construcción','Cuero y Calzado',\n",
        "                                 'Electricidad y Electrónica','Estética Personal','Hostelería y Turismo','Industrias Alimentarias','Mecánica y Metales',\n",
        "                                 'Mecánica y Motores','Minería','Química','Textil y Confección','Independiente','Docencia','Medicina'], [1,2,3,4,5,6,7,8,9,10,11,12,13,14,15,16,17,18,19,20,21], inplace=True)\n",
        "data['NACIONALIDAD - PADRE'].replace(['PERÚ', 'Extranjero'], [1,0], inplace=True)\n",
        "data['NACIONALIDAD - MADRE'].replace(['PERÚ', 'Extranjero'], [1,0], inplace=True)\n",
        "data['VIVE CON EL ESTUDIANTE - PADRE'].replace(['SI', 'NO'], [1,2], inplace=True)\n",
        "data['VIVE CON EL ESTUDIANTE - MADRE'].replace(['SI', 'NO'], [1,2], inplace=True)\n",
        "data['ENFERMEDADES'].replace(['Dislexia','Disgrafía','Discalculia','Discapacidad de la Memoria y el Procesamiento Auditivo','Trastorno por Déficit de Atención e Hiperactividad (TDHA)'\n",
        "                              ,'Trastorno del Espectro Autista/Trastorno Generalizado del Desarrollo','Discapacidad Intelectual','Otros','Ninguna'], [1,2,3,4,5,6,7,8,0], inplace=True)\n",
        "data['TIENE NECESIDADES ESPECIALES'].replace(['SI', 'NO'], [1,0], inplace=True)\n",
        "data['GRADO'].replace(['PRIMARIA', 'SECUNDARIA'], [1,2], inplace=True)\n",
        "data['AÑO LECTIVO'].replace(['PRIMER GRADO', 'SEGUNDO GRADO', 'TERCER GRADO', 'CUARTO GRADO', 'QUINTO GRADO', 'SEXTO GRADO',\n",
        "                             'PRIMER AÑO', 'SEGUNDO AÑO', 'TERCER AÑO','CUARTO AÑO','QUINTO AÑO'], [1,2,3,4,5,6,7,8,9,10,11], inplace=True)\n",
        "data['ÁREA'].replace(['CIENCIA Y TECNOLOGÍA', 'CASTELLANO COMO SEGUNDA LENGUA', 'INGLÉS',\n",
        "                             'MATEMÁTICA', 'COMUNICACIÓN', 'ARTE Y CULTURA', 'EDUCACIÓN FÍSICA',\n",
        "                             'EDUCACIÓN RELIGIOSA', 'PERSONAL SOCIAL', 'CIENCIAS SOCIALES',\n",
        "                             'DESARROLLO PERSONAL, CIUDADANÍA Y CÍVICA',\n",
        "                             'EDUCACIÓN PARA EL TRABAJO'], [1,2,3,4,5,6,7,8,9,10,11,12], inplace=True)"
      ],
      "metadata": {
        "id": "ZKLAJstqLqau"
      },
      "execution_count": null,
      "outputs": []
    },
    {
      "cell_type": "code",
      "source": [
        "codes = np.arange(1, 42, 1)\n",
        "new = []\n",
        "for i in range(1, 42):\n",
        "    if i < 10:\n",
        "        new.append('COM000'+str(i))\n",
        "        #print('COM000'+str(i))\n",
        "    else: new.append('COM00'+str(i))\n",
        "data['COMPETENCIA'].replace(new, codes, inplace=True)"
      ],
      "metadata": {
        "id": "v6jETPbODBbZ"
      },
      "execution_count": null,
      "outputs": []
    },
    {
      "cell_type": "code",
      "source": [
        "data['NOTA'].replace(['AD', 'A', 'B', 'D'], [4,3,2,1], inplace=True)"
      ],
      "metadata": {
        "id": "fyfHqmoPUZIK"
      },
      "execution_count": null,
      "outputs": []
    },
    {
      "cell_type": "code",
      "source": [
        "data['NOTA'].unique()"
      ],
      "metadata": {
        "colab": {
          "base_uri": "https://localhost:8080/"
        },
        "id": "jFrmx5UxBLHP",
        "outputId": "95030dd6-a84c-4d78-bebb-03ce41cd56c4"
      },
      "execution_count": null,
      "outputs": [
        {
          "output_type": "execute_result",
          "data": {
            "text/plain": [
              "array([3, 4, 2, 1])"
            ]
          },
          "metadata": {},
          "execution_count": 356
        }
      ]
    },
    {
      "cell_type": "code",
      "source": [
        "data.head()"
      ],
      "metadata": {
        "colab": {
          "base_uri": "https://localhost:8080/",
          "height": 352
        },
        "id": "IYFipuGuPc5l",
        "outputId": "4008fc5a-fd39-49f1-d52c-c601a5f0e599"
      },
      "execution_count": null,
      "outputs": [
        {
          "output_type": "execute_result",
          "data": {
            "text/plain": [
              "      EDAD  SEXO  NACIONALIDAD  POBLACIÓN  TIEMPO DE ESTUDIO  \\\n",
              "937     11     1             1          0                  3   \n",
              "655     11     1             1          0                  3   \n",
              "369      7     0             1          0                  3   \n",
              "4379    16     1             1          0                  2   \n",
              "3735    11     1             1          0                  3   \n",
              "\n",
              "      ACTIVIDADES EXTRACADÉMICAS  TAMAÑO DE LA FAMILIA  TIPO DE VIVIENDA  \\\n",
              "937                            0                     2                 3   \n",
              "655                            0                     2                 1   \n",
              "369                            0                     1                 3   \n",
              "4379                           3                     3                 3   \n",
              "3735                           0                     2                 3   \n",
              "\n",
              "      ENCARGADO DEL MENOR  ESTADO CIVIL - PADRE  ...  TRABAJO - MADRE  \\\n",
              "937                     2                     2  ...                4   \n",
              "655                     1                     5  ...                5   \n",
              "369                     2                     2  ...               18   \n",
              "4379                    2                     2  ...                7   \n",
              "3735                    4                     4  ...                2   \n",
              "\n",
              "      NACIONALIDAD - MADRE  VIVE CON EL ESTUDIANTE - MADRE  GRADO  \\\n",
              "937                      1                               1      1   \n",
              "655                      1                               2      1   \n",
              "369                      1                               1      1   \n",
              "4379                     1                               1      2   \n",
              "3735                     1                               2      1   \n",
              "\n",
              "      AÑO LECTIVO  ÁREA  COMPETENCIA  NOTA  ENFERMEDADES  \\\n",
              "937             6     7            8     3             0   \n",
              "655             6     2           28     3             0   \n",
              "369             2     4           16     3             0   \n",
              "4379           11     1           19     3             0   \n",
              "3735            6     9            4     3             0   \n",
              "\n",
              "      TIENE NECESIDADES ESPECIALES  \n",
              "937                              0  \n",
              "655                              0  \n",
              "369                              0  \n",
              "4379                             0  \n",
              "3735                             0  \n",
              "\n",
              "[5 rows x 26 columns]"
            ],
            "text/html": [
              "\n",
              "  <div id=\"df-787c5dad-c52b-4a99-acaa-3386ee3a00b7\">\n",
              "    <div class=\"colab-df-container\">\n",
              "      <div>\n",
              "<style scoped>\n",
              "    .dataframe tbody tr th:only-of-type {\n",
              "        vertical-align: middle;\n",
              "    }\n",
              "\n",
              "    .dataframe tbody tr th {\n",
              "        vertical-align: top;\n",
              "    }\n",
              "\n",
              "    .dataframe thead th {\n",
              "        text-align: right;\n",
              "    }\n",
              "</style>\n",
              "<table border=\"1\" class=\"dataframe\">\n",
              "  <thead>\n",
              "    <tr style=\"text-align: right;\">\n",
              "      <th></th>\n",
              "      <th>EDAD</th>\n",
              "      <th>SEXO</th>\n",
              "      <th>NACIONALIDAD</th>\n",
              "      <th>POBLACIÓN</th>\n",
              "      <th>TIEMPO DE ESTUDIO</th>\n",
              "      <th>ACTIVIDADES EXTRACADÉMICAS</th>\n",
              "      <th>TAMAÑO DE LA FAMILIA</th>\n",
              "      <th>TIPO DE VIVIENDA</th>\n",
              "      <th>ENCARGADO DEL MENOR</th>\n",
              "      <th>ESTADO CIVIL - PADRE</th>\n",
              "      <th>...</th>\n",
              "      <th>TRABAJO - MADRE</th>\n",
              "      <th>NACIONALIDAD - MADRE</th>\n",
              "      <th>VIVE CON EL ESTUDIANTE - MADRE</th>\n",
              "      <th>GRADO</th>\n",
              "      <th>AÑO LECTIVO</th>\n",
              "      <th>ÁREA</th>\n",
              "      <th>COMPETENCIA</th>\n",
              "      <th>NOTA</th>\n",
              "      <th>ENFERMEDADES</th>\n",
              "      <th>TIENE NECESIDADES ESPECIALES</th>\n",
              "    </tr>\n",
              "  </thead>\n",
              "  <tbody>\n",
              "    <tr>\n",
              "      <th>937</th>\n",
              "      <td>11</td>\n",
              "      <td>1</td>\n",
              "      <td>1</td>\n",
              "      <td>0</td>\n",
              "      <td>3</td>\n",
              "      <td>0</td>\n",
              "      <td>2</td>\n",
              "      <td>3</td>\n",
              "      <td>2</td>\n",
              "      <td>2</td>\n",
              "      <td>...</td>\n",
              "      <td>4</td>\n",
              "      <td>1</td>\n",
              "      <td>1</td>\n",
              "      <td>1</td>\n",
              "      <td>6</td>\n",
              "      <td>7</td>\n",
              "      <td>8</td>\n",
              "      <td>3</td>\n",
              "      <td>0</td>\n",
              "      <td>0</td>\n",
              "    </tr>\n",
              "    <tr>\n",
              "      <th>655</th>\n",
              "      <td>11</td>\n",
              "      <td>1</td>\n",
              "      <td>1</td>\n",
              "      <td>0</td>\n",
              "      <td>3</td>\n",
              "      <td>0</td>\n",
              "      <td>2</td>\n",
              "      <td>1</td>\n",
              "      <td>1</td>\n",
              "      <td>5</td>\n",
              "      <td>...</td>\n",
              "      <td>5</td>\n",
              "      <td>1</td>\n",
              "      <td>2</td>\n",
              "      <td>1</td>\n",
              "      <td>6</td>\n",
              "      <td>2</td>\n",
              "      <td>28</td>\n",
              "      <td>3</td>\n",
              "      <td>0</td>\n",
              "      <td>0</td>\n",
              "    </tr>\n",
              "    <tr>\n",
              "      <th>369</th>\n",
              "      <td>7</td>\n",
              "      <td>0</td>\n",
              "      <td>1</td>\n",
              "      <td>0</td>\n",
              "      <td>3</td>\n",
              "      <td>0</td>\n",
              "      <td>1</td>\n",
              "      <td>3</td>\n",
              "      <td>2</td>\n",
              "      <td>2</td>\n",
              "      <td>...</td>\n",
              "      <td>18</td>\n",
              "      <td>1</td>\n",
              "      <td>1</td>\n",
              "      <td>1</td>\n",
              "      <td>2</td>\n",
              "      <td>4</td>\n",
              "      <td>16</td>\n",
              "      <td>3</td>\n",
              "      <td>0</td>\n",
              "      <td>0</td>\n",
              "    </tr>\n",
              "    <tr>\n",
              "      <th>4379</th>\n",
              "      <td>16</td>\n",
              "      <td>1</td>\n",
              "      <td>1</td>\n",
              "      <td>0</td>\n",
              "      <td>2</td>\n",
              "      <td>3</td>\n",
              "      <td>3</td>\n",
              "      <td>3</td>\n",
              "      <td>2</td>\n",
              "      <td>2</td>\n",
              "      <td>...</td>\n",
              "      <td>7</td>\n",
              "      <td>1</td>\n",
              "      <td>1</td>\n",
              "      <td>2</td>\n",
              "      <td>11</td>\n",
              "      <td>1</td>\n",
              "      <td>19</td>\n",
              "      <td>3</td>\n",
              "      <td>0</td>\n",
              "      <td>0</td>\n",
              "    </tr>\n",
              "    <tr>\n",
              "      <th>3735</th>\n",
              "      <td>11</td>\n",
              "      <td>1</td>\n",
              "      <td>1</td>\n",
              "      <td>0</td>\n",
              "      <td>3</td>\n",
              "      <td>0</td>\n",
              "      <td>2</td>\n",
              "      <td>3</td>\n",
              "      <td>4</td>\n",
              "      <td>4</td>\n",
              "      <td>...</td>\n",
              "      <td>2</td>\n",
              "      <td>1</td>\n",
              "      <td>2</td>\n",
              "      <td>1</td>\n",
              "      <td>6</td>\n",
              "      <td>9</td>\n",
              "      <td>4</td>\n",
              "      <td>3</td>\n",
              "      <td>0</td>\n",
              "      <td>0</td>\n",
              "    </tr>\n",
              "  </tbody>\n",
              "</table>\n",
              "<p>5 rows × 26 columns</p>\n",
              "</div>\n",
              "      <button class=\"colab-df-convert\" onclick=\"convertToInteractive('df-787c5dad-c52b-4a99-acaa-3386ee3a00b7')\"\n",
              "              title=\"Convert this dataframe to an interactive table.\"\n",
              "              style=\"display:none;\">\n",
              "        \n",
              "  <svg xmlns=\"http://www.w3.org/2000/svg\" height=\"24px\"viewBox=\"0 0 24 24\"\n",
              "       width=\"24px\">\n",
              "    <path d=\"M0 0h24v24H0V0z\" fill=\"none\"/>\n",
              "    <path d=\"M18.56 5.44l.94 2.06.94-2.06 2.06-.94-2.06-.94-.94-2.06-.94 2.06-2.06.94zm-11 1L8.5 8.5l.94-2.06 2.06-.94-2.06-.94L8.5 2.5l-.94 2.06-2.06.94zm10 10l.94 2.06.94-2.06 2.06-.94-2.06-.94-.94-2.06-.94 2.06-2.06.94z\"/><path d=\"M17.41 7.96l-1.37-1.37c-.4-.4-.92-.59-1.43-.59-.52 0-1.04.2-1.43.59L10.3 9.45l-7.72 7.72c-.78.78-.78 2.05 0 2.83L4 21.41c.39.39.9.59 1.41.59.51 0 1.02-.2 1.41-.59l7.78-7.78 2.81-2.81c.8-.78.8-2.07 0-2.86zM5.41 20L4 18.59l7.72-7.72 1.47 1.35L5.41 20z\"/>\n",
              "  </svg>\n",
              "      </button>\n",
              "      \n",
              "  <style>\n",
              "    .colab-df-container {\n",
              "      display:flex;\n",
              "      flex-wrap:wrap;\n",
              "      gap: 12px;\n",
              "    }\n",
              "\n",
              "    .colab-df-convert {\n",
              "      background-color: #E8F0FE;\n",
              "      border: none;\n",
              "      border-radius: 50%;\n",
              "      cursor: pointer;\n",
              "      display: none;\n",
              "      fill: #1967D2;\n",
              "      height: 32px;\n",
              "      padding: 0 0 0 0;\n",
              "      width: 32px;\n",
              "    }\n",
              "\n",
              "    .colab-df-convert:hover {\n",
              "      background-color: #E2EBFA;\n",
              "      box-shadow: 0px 1px 2px rgba(60, 64, 67, 0.3), 0px 1px 3px 1px rgba(60, 64, 67, 0.15);\n",
              "      fill: #174EA6;\n",
              "    }\n",
              "\n",
              "    [theme=dark] .colab-df-convert {\n",
              "      background-color: #3B4455;\n",
              "      fill: #D2E3FC;\n",
              "    }\n",
              "\n",
              "    [theme=dark] .colab-df-convert:hover {\n",
              "      background-color: #434B5C;\n",
              "      box-shadow: 0px 1px 3px 1px rgba(0, 0, 0, 0.15);\n",
              "      filter: drop-shadow(0px 1px 2px rgba(0, 0, 0, 0.3));\n",
              "      fill: #FFFFFF;\n",
              "    }\n",
              "  </style>\n",
              "\n",
              "      <script>\n",
              "        const buttonEl =\n",
              "          document.querySelector('#df-787c5dad-c52b-4a99-acaa-3386ee3a00b7 button.colab-df-convert');\n",
              "        buttonEl.style.display =\n",
              "          google.colab.kernel.accessAllowed ? 'block' : 'none';\n",
              "\n",
              "        async function convertToInteractive(key) {\n",
              "          const element = document.querySelector('#df-787c5dad-c52b-4a99-acaa-3386ee3a00b7');\n",
              "          const dataTable =\n",
              "            await google.colab.kernel.invokeFunction('convertToInteractive',\n",
              "                                                     [key], {});\n",
              "          if (!dataTable) return;\n",
              "\n",
              "          const docLinkHtml = 'Like what you see? Visit the ' +\n",
              "            '<a target=\"_blank\" href=https://colab.research.google.com/notebooks/data_table.ipynb>data table notebook</a>'\n",
              "            + ' to learn more about interactive tables.';\n",
              "          element.innerHTML = '';\n",
              "          dataTable['output_type'] = 'display_data';\n",
              "          await google.colab.output.renderOutput(dataTable, element);\n",
              "          const docLink = document.createElement('div');\n",
              "          docLink.innerHTML = docLinkHtml;\n",
              "          element.appendChild(docLink);\n",
              "        }\n",
              "      </script>\n",
              "    </div>\n",
              "  </div>\n",
              "  "
            ]
          },
          "metadata": {},
          "execution_count": 357
        }
      ]
    },
    {
      "cell_type": "code",
      "source": [
        "data.info()"
      ],
      "metadata": {
        "colab": {
          "base_uri": "https://localhost:8080/"
        },
        "id": "ds9njLi2DAoH",
        "outputId": "39f40de4-e3e8-4d9e-ed95-3a7bca8ce8bd"
      },
      "execution_count": null,
      "outputs": [
        {
          "output_type": "stream",
          "name": "stdout",
          "text": [
            "<class 'pandas.core.frame.DataFrame'>\n",
            "Int64Index: 4393 entries, 937 to 1258\n",
            "Data columns (total 26 columns):\n",
            " #   Column                          Non-Null Count  Dtype\n",
            "---  ------                          --------------  -----\n",
            " 0   EDAD                            4393 non-null   int64\n",
            " 1   SEXO                            4393 non-null   int64\n",
            " 2   NACIONALIDAD                    4393 non-null   int64\n",
            " 3   POBLACIÓN                       4393 non-null   int64\n",
            " 4   TIEMPO DE ESTUDIO               4393 non-null   int64\n",
            " 5   ACTIVIDADES EXTRACADÉMICAS      4393 non-null   int64\n",
            " 6   TAMAÑO DE LA FAMILIA            4393 non-null   int64\n",
            " 7   TIPO DE VIVIENDA                4393 non-null   int64\n",
            " 8   ENCARGADO DEL MENOR             4393 non-null   int64\n",
            " 9   ESTADO CIVIL - PADRE            4393 non-null   int64\n",
            " 10  EDUCACIÓN - PADRE               4393 non-null   int64\n",
            " 11  TRABAJO - PADRE                 4393 non-null   int64\n",
            " 12  NACIONALIDAD - PADRE            4393 non-null   int64\n",
            " 13  VIVE CON EL ESTUDIANTE - PADRE  4393 non-null   int64\n",
            " 14  ESTADO CIVIL - MADRE            4393 non-null   int64\n",
            " 15  EDUCACIÓN - MADRE               4393 non-null   int64\n",
            " 16  TRABAJO - MADRE                 4393 non-null   int64\n",
            " 17  NACIONALIDAD - MADRE            4393 non-null   int64\n",
            " 18  VIVE CON EL ESTUDIANTE - MADRE  4393 non-null   int64\n",
            " 19  GRADO                           4393 non-null   int64\n",
            " 20  AÑO LECTIVO                     4393 non-null   int64\n",
            " 21  ÁREA                            4393 non-null   int64\n",
            " 22  COMPETENCIA                     4393 non-null   int64\n",
            " 23  NOTA                            4393 non-null   int64\n",
            " 24  ENFERMEDADES                    4393 non-null   int64\n",
            " 25  TIENE NECESIDADES ESPECIALES    4393 non-null   int64\n",
            "dtypes: int64(26)\n",
            "memory usage: 1.0 MB\n"
          ]
        }
      ]
    },
    {
      "cell_type": "markdown",
      "source": [
        "## Set de Entrenamiento y Validación"
      ],
      "metadata": {
        "id": "lMFVev6eO67D"
      }
    },
    {
      "cell_type": "code",
      "source": [
        "X = data.loc[:,data.columns != 'NOTA']\n",
        "Y = data.loc[:,'NOTA']"
      ],
      "metadata": {
        "id": "J-0zIhplPVIY"
      },
      "execution_count": null,
      "outputs": []
    },
    {
      "cell_type": "code",
      "source": [
        "Y"
      ],
      "metadata": {
        "colab": {
          "base_uri": "https://localhost:8080/"
        },
        "id": "TZyYSFUAay1d",
        "outputId": "0f303cba-666f-4af0-9652-3983c67d780b"
      },
      "execution_count": null,
      "outputs": [
        {
          "output_type": "execute_result",
          "data": {
            "text/plain": [
              "937     3\n",
              "655     3\n",
              "369     3\n",
              "4379    3\n",
              "3735    3\n",
              "       ..\n",
              "3149    4\n",
              "3552    3\n",
              "607     3\n",
              "1624    3\n",
              "1258    4\n",
              "Name: NOTA, Length: 4393, dtype: int64"
            ]
          },
          "metadata": {},
          "execution_count": 360
        }
      ]
    },
    {
      "cell_type": "code",
      "source": [
        "from sklearn.preprocessing import LabelEncoder\n",
        "from tensorflow.keras.utils import to_categorical\n",
        "\n",
        "le=LabelEncoder()\n",
        "Y=le.fit_transform(Y)\n",
        "Y=to_categorical(Y,4)"
      ],
      "metadata": {
        "id": "6KQcX8PDbXvN"
      },
      "execution_count": null,
      "outputs": []
    },
    {
      "cell_type": "code",
      "source": [
        "Y"
      ],
      "metadata": {
        "colab": {
          "base_uri": "https://localhost:8080/"
        },
        "id": "coNogkvG-rMy",
        "outputId": "2da3d3d4-90db-4107-cbed-e2165dcf3b45"
      },
      "execution_count": null,
      "outputs": [
        {
          "output_type": "execute_result",
          "data": {
            "text/plain": [
              "array([[0., 0., 1., 0.],\n",
              "       [0., 0., 1., 0.],\n",
              "       [0., 0., 1., 0.],\n",
              "       ...,\n",
              "       [0., 0., 1., 0.],\n",
              "       [0., 0., 1., 0.],\n",
              "       [0., 0., 0., 1.]], dtype=float32)"
            ]
          },
          "metadata": {},
          "execution_count": 362
        }
      ]
    },
    {
      "cell_type": "code",
      "source": [
        "X.head(5)"
      ],
      "metadata": {
        "colab": {
          "base_uri": "https://localhost:8080/",
          "height": 352
        },
        "id": "iRKyeB9kPhAT",
        "outputId": "9485c281-e1e0-421a-f46e-53c38822756e"
      },
      "execution_count": null,
      "outputs": [
        {
          "output_type": "execute_result",
          "data": {
            "text/plain": [
              "      EDAD  SEXO  NACIONALIDAD  POBLACIÓN  TIEMPO DE ESTUDIO  \\\n",
              "937     11     1             1          0                  3   \n",
              "655     11     1             1          0                  3   \n",
              "369      7     0             1          0                  3   \n",
              "4379    16     1             1          0                  2   \n",
              "3735    11     1             1          0                  3   \n",
              "\n",
              "      ACTIVIDADES EXTRACADÉMICAS  TAMAÑO DE LA FAMILIA  TIPO DE VIVIENDA  \\\n",
              "937                            0                     2                 3   \n",
              "655                            0                     2                 1   \n",
              "369                            0                     1                 3   \n",
              "4379                           3                     3                 3   \n",
              "3735                           0                     2                 3   \n",
              "\n",
              "      ENCARGADO DEL MENOR  ESTADO CIVIL - PADRE  ...  EDUCACIÓN - MADRE  \\\n",
              "937                     2                     2  ...                  6   \n",
              "655                     1                     5  ...                  4   \n",
              "369                     2                     2  ...                  6   \n",
              "4379                    2                     2  ...                  6   \n",
              "3735                    4                     4  ...                  4   \n",
              "\n",
              "      TRABAJO - MADRE  NACIONALIDAD - MADRE  VIVE CON EL ESTUDIANTE - MADRE  \\\n",
              "937                 4                     1                               1   \n",
              "655                 5                     1                               2   \n",
              "369                18                     1                               1   \n",
              "4379                7                     1                               1   \n",
              "3735                2                     1                               2   \n",
              "\n",
              "      GRADO  AÑO LECTIVO  ÁREA  COMPETENCIA  ENFERMEDADES  \\\n",
              "937       1            6     7            8             0   \n",
              "655       1            6     2           28             0   \n",
              "369       1            2     4           16             0   \n",
              "4379      2           11     1           19             0   \n",
              "3735      1            6     9            4             0   \n",
              "\n",
              "      TIENE NECESIDADES ESPECIALES  \n",
              "937                              0  \n",
              "655                              0  \n",
              "369                              0  \n",
              "4379                             0  \n",
              "3735                             0  \n",
              "\n",
              "[5 rows x 25 columns]"
            ],
            "text/html": [
              "\n",
              "  <div id=\"df-a344e029-ac62-46dd-bc94-d5fb42d62ab5\">\n",
              "    <div class=\"colab-df-container\">\n",
              "      <div>\n",
              "<style scoped>\n",
              "    .dataframe tbody tr th:only-of-type {\n",
              "        vertical-align: middle;\n",
              "    }\n",
              "\n",
              "    .dataframe tbody tr th {\n",
              "        vertical-align: top;\n",
              "    }\n",
              "\n",
              "    .dataframe thead th {\n",
              "        text-align: right;\n",
              "    }\n",
              "</style>\n",
              "<table border=\"1\" class=\"dataframe\">\n",
              "  <thead>\n",
              "    <tr style=\"text-align: right;\">\n",
              "      <th></th>\n",
              "      <th>EDAD</th>\n",
              "      <th>SEXO</th>\n",
              "      <th>NACIONALIDAD</th>\n",
              "      <th>POBLACIÓN</th>\n",
              "      <th>TIEMPO DE ESTUDIO</th>\n",
              "      <th>ACTIVIDADES EXTRACADÉMICAS</th>\n",
              "      <th>TAMAÑO DE LA FAMILIA</th>\n",
              "      <th>TIPO DE VIVIENDA</th>\n",
              "      <th>ENCARGADO DEL MENOR</th>\n",
              "      <th>ESTADO CIVIL - PADRE</th>\n",
              "      <th>...</th>\n",
              "      <th>EDUCACIÓN - MADRE</th>\n",
              "      <th>TRABAJO - MADRE</th>\n",
              "      <th>NACIONALIDAD - MADRE</th>\n",
              "      <th>VIVE CON EL ESTUDIANTE - MADRE</th>\n",
              "      <th>GRADO</th>\n",
              "      <th>AÑO LECTIVO</th>\n",
              "      <th>ÁREA</th>\n",
              "      <th>COMPETENCIA</th>\n",
              "      <th>ENFERMEDADES</th>\n",
              "      <th>TIENE NECESIDADES ESPECIALES</th>\n",
              "    </tr>\n",
              "  </thead>\n",
              "  <tbody>\n",
              "    <tr>\n",
              "      <th>937</th>\n",
              "      <td>11</td>\n",
              "      <td>1</td>\n",
              "      <td>1</td>\n",
              "      <td>0</td>\n",
              "      <td>3</td>\n",
              "      <td>0</td>\n",
              "      <td>2</td>\n",
              "      <td>3</td>\n",
              "      <td>2</td>\n",
              "      <td>2</td>\n",
              "      <td>...</td>\n",
              "      <td>6</td>\n",
              "      <td>4</td>\n",
              "      <td>1</td>\n",
              "      <td>1</td>\n",
              "      <td>1</td>\n",
              "      <td>6</td>\n",
              "      <td>7</td>\n",
              "      <td>8</td>\n",
              "      <td>0</td>\n",
              "      <td>0</td>\n",
              "    </tr>\n",
              "    <tr>\n",
              "      <th>655</th>\n",
              "      <td>11</td>\n",
              "      <td>1</td>\n",
              "      <td>1</td>\n",
              "      <td>0</td>\n",
              "      <td>3</td>\n",
              "      <td>0</td>\n",
              "      <td>2</td>\n",
              "      <td>1</td>\n",
              "      <td>1</td>\n",
              "      <td>5</td>\n",
              "      <td>...</td>\n",
              "      <td>4</td>\n",
              "      <td>5</td>\n",
              "      <td>1</td>\n",
              "      <td>2</td>\n",
              "      <td>1</td>\n",
              "      <td>6</td>\n",
              "      <td>2</td>\n",
              "      <td>28</td>\n",
              "      <td>0</td>\n",
              "      <td>0</td>\n",
              "    </tr>\n",
              "    <tr>\n",
              "      <th>369</th>\n",
              "      <td>7</td>\n",
              "      <td>0</td>\n",
              "      <td>1</td>\n",
              "      <td>0</td>\n",
              "      <td>3</td>\n",
              "      <td>0</td>\n",
              "      <td>1</td>\n",
              "      <td>3</td>\n",
              "      <td>2</td>\n",
              "      <td>2</td>\n",
              "      <td>...</td>\n",
              "      <td>6</td>\n",
              "      <td>18</td>\n",
              "      <td>1</td>\n",
              "      <td>1</td>\n",
              "      <td>1</td>\n",
              "      <td>2</td>\n",
              "      <td>4</td>\n",
              "      <td>16</td>\n",
              "      <td>0</td>\n",
              "      <td>0</td>\n",
              "    </tr>\n",
              "    <tr>\n",
              "      <th>4379</th>\n",
              "      <td>16</td>\n",
              "      <td>1</td>\n",
              "      <td>1</td>\n",
              "      <td>0</td>\n",
              "      <td>2</td>\n",
              "      <td>3</td>\n",
              "      <td>3</td>\n",
              "      <td>3</td>\n",
              "      <td>2</td>\n",
              "      <td>2</td>\n",
              "      <td>...</td>\n",
              "      <td>6</td>\n",
              "      <td>7</td>\n",
              "      <td>1</td>\n",
              "      <td>1</td>\n",
              "      <td>2</td>\n",
              "      <td>11</td>\n",
              "      <td>1</td>\n",
              "      <td>19</td>\n",
              "      <td>0</td>\n",
              "      <td>0</td>\n",
              "    </tr>\n",
              "    <tr>\n",
              "      <th>3735</th>\n",
              "      <td>11</td>\n",
              "      <td>1</td>\n",
              "      <td>1</td>\n",
              "      <td>0</td>\n",
              "      <td>3</td>\n",
              "      <td>0</td>\n",
              "      <td>2</td>\n",
              "      <td>3</td>\n",
              "      <td>4</td>\n",
              "      <td>4</td>\n",
              "      <td>...</td>\n",
              "      <td>4</td>\n",
              "      <td>2</td>\n",
              "      <td>1</td>\n",
              "      <td>2</td>\n",
              "      <td>1</td>\n",
              "      <td>6</td>\n",
              "      <td>9</td>\n",
              "      <td>4</td>\n",
              "      <td>0</td>\n",
              "      <td>0</td>\n",
              "    </tr>\n",
              "  </tbody>\n",
              "</table>\n",
              "<p>5 rows × 25 columns</p>\n",
              "</div>\n",
              "      <button class=\"colab-df-convert\" onclick=\"convertToInteractive('df-a344e029-ac62-46dd-bc94-d5fb42d62ab5')\"\n",
              "              title=\"Convert this dataframe to an interactive table.\"\n",
              "              style=\"display:none;\">\n",
              "        \n",
              "  <svg xmlns=\"http://www.w3.org/2000/svg\" height=\"24px\"viewBox=\"0 0 24 24\"\n",
              "       width=\"24px\">\n",
              "    <path d=\"M0 0h24v24H0V0z\" fill=\"none\"/>\n",
              "    <path d=\"M18.56 5.44l.94 2.06.94-2.06 2.06-.94-2.06-.94-.94-2.06-.94 2.06-2.06.94zm-11 1L8.5 8.5l.94-2.06 2.06-.94-2.06-.94L8.5 2.5l-.94 2.06-2.06.94zm10 10l.94 2.06.94-2.06 2.06-.94-2.06-.94-.94-2.06-.94 2.06-2.06.94z\"/><path d=\"M17.41 7.96l-1.37-1.37c-.4-.4-.92-.59-1.43-.59-.52 0-1.04.2-1.43.59L10.3 9.45l-7.72 7.72c-.78.78-.78 2.05 0 2.83L4 21.41c.39.39.9.59 1.41.59.51 0 1.02-.2 1.41-.59l7.78-7.78 2.81-2.81c.8-.78.8-2.07 0-2.86zM5.41 20L4 18.59l7.72-7.72 1.47 1.35L5.41 20z\"/>\n",
              "  </svg>\n",
              "      </button>\n",
              "      \n",
              "  <style>\n",
              "    .colab-df-container {\n",
              "      display:flex;\n",
              "      flex-wrap:wrap;\n",
              "      gap: 12px;\n",
              "    }\n",
              "\n",
              "    .colab-df-convert {\n",
              "      background-color: #E8F0FE;\n",
              "      border: none;\n",
              "      border-radius: 50%;\n",
              "      cursor: pointer;\n",
              "      display: none;\n",
              "      fill: #1967D2;\n",
              "      height: 32px;\n",
              "      padding: 0 0 0 0;\n",
              "      width: 32px;\n",
              "    }\n",
              "\n",
              "    .colab-df-convert:hover {\n",
              "      background-color: #E2EBFA;\n",
              "      box-shadow: 0px 1px 2px rgba(60, 64, 67, 0.3), 0px 1px 3px 1px rgba(60, 64, 67, 0.15);\n",
              "      fill: #174EA6;\n",
              "    }\n",
              "\n",
              "    [theme=dark] .colab-df-convert {\n",
              "      background-color: #3B4455;\n",
              "      fill: #D2E3FC;\n",
              "    }\n",
              "\n",
              "    [theme=dark] .colab-df-convert:hover {\n",
              "      background-color: #434B5C;\n",
              "      box-shadow: 0px 1px 3px 1px rgba(0, 0, 0, 0.15);\n",
              "      filter: drop-shadow(0px 1px 2px rgba(0, 0, 0, 0.3));\n",
              "      fill: #FFFFFF;\n",
              "    }\n",
              "  </style>\n",
              "\n",
              "      <script>\n",
              "        const buttonEl =\n",
              "          document.querySelector('#df-a344e029-ac62-46dd-bc94-d5fb42d62ab5 button.colab-df-convert');\n",
              "        buttonEl.style.display =\n",
              "          google.colab.kernel.accessAllowed ? 'block' : 'none';\n",
              "\n",
              "        async function convertToInteractive(key) {\n",
              "          const element = document.querySelector('#df-a344e029-ac62-46dd-bc94-d5fb42d62ab5');\n",
              "          const dataTable =\n",
              "            await google.colab.kernel.invokeFunction('convertToInteractive',\n",
              "                                                     [key], {});\n",
              "          if (!dataTable) return;\n",
              "\n",
              "          const docLinkHtml = 'Like what you see? Visit the ' +\n",
              "            '<a target=\"_blank\" href=https://colab.research.google.com/notebooks/data_table.ipynb>data table notebook</a>'\n",
              "            + ' to learn more about interactive tables.';\n",
              "          element.innerHTML = '';\n",
              "          dataTable['output_type'] = 'display_data';\n",
              "          await google.colab.output.renderOutput(dataTable, element);\n",
              "          const docLink = document.createElement('div');\n",
              "          docLink.innerHTML = docLinkHtml;\n",
              "          element.appendChild(docLink);\n",
              "        }\n",
              "      </script>\n",
              "    </div>\n",
              "  </div>\n",
              "  "
            ]
          },
          "metadata": {},
          "execution_count": 363
        }
      ]
    },
    {
      "cell_type": "code",
      "source": [
        "x_train, x_test, y_train, y_test=model_selection.train_test_split(X,Y,test_size=0.20) # 80-20"
      ],
      "metadata": {
        "id": "iV6aCRSxPBjT"
      },
      "execution_count": null,
      "outputs": []
    },
    {
      "cell_type": "markdown",
      "source": [
        "## Normalizacion "
      ],
      "metadata": {
        "id": "onikgZIQ9A_E"
      }
    },
    {
      "cell_type": "code",
      "source": [
        "from sklearn.preprocessing import StandardScaler\n",
        "\n",
        "scaler = StandardScaler() # normalizacion de la data\n",
        "\n",
        "trainX_scaled = scaler.fit_transform(x_train)\n",
        "testX_scaled = scaler.transform(x_test)"
      ],
      "metadata": {
        "id": "WA1XLJfcP1YN"
      },
      "execution_count": null,
      "outputs": []
    },
    {
      "cell_type": "code",
      "source": [
        "trainX_scaled[0]"
      ],
      "metadata": {
        "colab": {
          "base_uri": "https://localhost:8080/"
        },
        "id": "zeKuRd5uSMjA",
        "outputId": "092e95e3-0741-411e-ef91-2c6187f6a9f0"
      },
      "execution_count": null,
      "outputs": [
        {
          "output_type": "execute_result",
          "data": {
            "text/plain": [
              "array([ 1.46738051,  1.26532062,  0.        ,  0.        ,  0.02352913,\n",
              "       -0.64323879,  0.34234956,  1.20356604,  2.62453715,  1.49196399,\n",
              "        0.51675247,  1.59956779,  0.        , -0.40062699,  1.49196399,\n",
              "       -0.9864684 , -1.73341832,  0.        ,  2.34678661,  1.32925887,\n",
              "        1.47087976,  0.59026281,  1.09424575, -0.26679823,  0.        ])"
            ]
          },
          "metadata": {},
          "execution_count": 366
        }
      ]
    },
    {
      "cell_type": "markdown",
      "source": [
        "# Entrenamiento del modelo"
      ],
      "metadata": {
        "id": "ViOTQdoqSith"
      }
    },
    {
      "cell_type": "code",
      "source": [
        "x_train.shape"
      ],
      "metadata": {
        "colab": {
          "base_uri": "https://localhost:8080/"
        },
        "id": "kH2tqQz5S8qc",
        "outputId": "3585a7f2-3df5-4cb3-ee1e-6765d7e19ec6"
      },
      "execution_count": null,
      "outputs": [
        {
          "output_type": "execute_result",
          "data": {
            "text/plain": [
              "(3514, 25)"
            ]
          },
          "metadata": {},
          "execution_count": 367
        }
      ]
    },
    {
      "cell_type": "code",
      "source": [
        "trainX_scaled.shape"
      ],
      "metadata": {
        "colab": {
          "base_uri": "https://localhost:8080/"
        },
        "id": "kiaBSXyqVg-D",
        "outputId": "fb83592b-fdad-46ac-820d-83ac1a9c39ae"
      },
      "execution_count": null,
      "outputs": [
        {
          "output_type": "execute_result",
          "data": {
            "text/plain": [
              "(3514, 25)"
            ]
          },
          "metadata": {},
          "execution_count": 368
        }
      ]
    },
    {
      "cell_type": "code",
      "source": [
        "model = tf.keras.Sequential([\n",
        "    tf.keras.layers.Dense(128, activation='relu', input_shape=(x_train.shape[1],)),\n",
        "    tf.keras.layers.Dropout(0.2),\n",
        "    tf.keras.layers.Dense(128, activation='relu'),\n",
        "    tf.keras.layers.Dropout(0.2),\n",
        "    tf.keras.layers.Dense(64, activation='relu'),\n",
        "    tf.keras.layers.Dense(4, activation='softmax')\n",
        "])\n",
        "\n",
        "model.compile(\n",
        "    loss=tf.keras.losses.binary_crossentropy,\n",
        "    optimizer=tf.keras.optimizers.Adam(lr=0.01),\n",
        "    metrics=[\n",
        "        tf.keras.metrics.BinaryAccuracy(name='accuracy'),\n",
        "        tf.keras.metrics.Precision(name='precision'),\n",
        "        tf.keras.metrics.Recall(name='recall')\n",
        "    ]\n",
        ")"
      ],
      "metadata": {
        "colab": {
          "base_uri": "https://localhost:8080/"
        },
        "id": "HvBrbV4KSmKC",
        "outputId": "7bd589e2-a426-44d3-ff7b-c72333eed063"
      },
      "execution_count": null,
      "outputs": [
        {
          "output_type": "stream",
          "name": "stderr",
          "text": [
            "/usr/local/lib/python3.7/dist-packages/keras/optimizer_v2/adam.py:105: UserWarning: The `lr` argument is deprecated, use `learning_rate` instead.\n",
            "  super(Adam, self).__init__(name, **kwargs)\n"
          ]
        }
      ]
    },
    {
      "cell_type": "code",
      "source": [
        "tf.keras.utils.plot_model(model, to_file='model_plot.png', show_shapes=True, show_layer_names=True)"
      ],
      "metadata": {
        "colab": {
          "base_uri": "https://localhost:8080/",
          "height": 754
        },
        "id": "WdhGiMRrTRW0",
        "outputId": "216cbf7c-086b-4276-b8ea-908e4bc604db"
      },
      "execution_count": null,
      "outputs": [
        {
          "output_type": "execute_result",
          "data": {
            "image/png": "[encoded data removed]",
            "text/plain": [
              "<IPython.core.display.Image object>"
            ]
          },
          "metadata": {},
          "execution_count": 370
        }
      ]
    },
    {
      "cell_type": "code",
      "source": [
        "print(\"Comenzando entrenamiento...\")\n",
        "historial = model.fit(trainX_scaled, y_train, epochs=50, verbose=True)\n",
        "print(\"Modelo entrenado!\")"
      ],
      "metadata": {
        "colab": {
          "base_uri": "https://localhost:8080/"
        },
        "id": "kqkD6Y3CTJkm",
        "outputId": "8afe44e1-9e3f-409d-c136-cf1382685ff6"
      },
      "execution_count": null,
      "outputs": [
        {
          "output_type": "stream",
          "name": "stdout",
          "text": [
            "Comenzando entrenamiento...\n",
            "Epoch 1/50\n",
            "110/110 [==============================] - 1s 2ms/step - loss: 0.2665 - accuracy: 0.9051 - precision: 0.8154 - recall: 0.8019\n",
            "Epoch 2/50\n",
            "110/110 [==============================] - 0s 2ms/step - loss: 0.2434 - accuracy: 0.9079 - precision: 0.8164 - recall: 0.8150\n",
            "Epoch 3/50\n",
            "110/110 [==============================] - 0s 2ms/step - loss: 0.2343 - accuracy: 0.9059 - precision: 0.8120 - recall: 0.8113\n",
            "Epoch 4/50\n",
            "110/110 [==============================] - 0s 2ms/step - loss: 0.2250 - accuracy: 0.9091 - precision: 0.8184 - recall: 0.8182\n",
            "Epoch 5/50\n",
            "110/110 [==============================] - 0s 2ms/step - loss: 0.2220 - accuracy: 0.9074 - precision: 0.8147 - recall: 0.8147\n",
            "Epoch 6/50\n",
            "110/110 [==============================] - 0s 2ms/step - loss: 0.2202 - accuracy: 0.9077 - precision: 0.8153 - recall: 0.8153\n",
            "Epoch 7/50\n",
            "110/110 [==============================] - 0s 2ms/step - loss: 0.2196 - accuracy: 0.9054 - precision: 0.8110 - recall: 0.8108\n",
            "Epoch 8/50\n",
            "110/110 [==============================] - 0s 2ms/step - loss: 0.2169 - accuracy: 0.9078 - precision: 0.8156 - recall: 0.8156\n",
            "Epoch 9/50\n",
            "110/110 [==============================] - 0s 2ms/step - loss: 0.2136 - accuracy: 0.9109 - precision: 0.8218 - recall: 0.8216\n",
            "Epoch 10/50\n",
            "110/110 [==============================] - 0s 2ms/step - loss: 0.2092 - accuracy: 0.9104 - precision: 0.8207 - recall: 0.8207\n",
            "Epoch 11/50\n",
            "110/110 [==============================] - 0s 2ms/step - loss: 0.2068 - accuracy: 0.9095 - precision: 0.8190 - recall: 0.8190\n",
            "Epoch 12/50\n",
            "110/110 [==============================] - 0s 2ms/step - loss: 0.2086 - accuracy: 0.9118 - precision: 0.8236 - recall: 0.8236\n",
            "Epoch 13/50\n",
            "110/110 [==============================] - 0s 2ms/step - loss: 0.2058 - accuracy: 0.9105 - precision: 0.8210 - recall: 0.8210\n",
            "Epoch 14/50\n",
            "110/110 [==============================] - 0s 2ms/step - loss: 0.2069 - accuracy: 0.9095 - precision: 0.8190 - recall: 0.8190\n",
            "Epoch 15/50\n",
            "110/110 [==============================] - 0s 2ms/step - loss: 0.2049 - accuracy: 0.9101 - precision: 0.8204 - recall: 0.8201\n",
            "Epoch 16/50\n",
            "110/110 [==============================] - 0s 2ms/step - loss: 0.2060 - accuracy: 0.9112 - precision: 0.8224 - recall: 0.8224\n",
            "Epoch 17/50\n",
            "110/110 [==============================] - 0s 2ms/step - loss: 0.2013 - accuracy: 0.9116 - precision: 0.8233 - recall: 0.8233\n",
            "Epoch 18/50\n",
            "110/110 [==============================] - 0s 2ms/step - loss: 0.2036 - accuracy: 0.9091 - precision: 0.8184 - recall: 0.8182\n",
            "Epoch 19/50\n",
            "110/110 [==============================] - 0s 2ms/step - loss: 0.1989 - accuracy: 0.9129 - precision: 0.8258 - recall: 0.8258\n",
            "Epoch 20/50\n",
            "110/110 [==============================] - 0s 2ms/step - loss: 0.1977 - accuracy: 0.9114 - precision: 0.8229 - recall: 0.8224\n",
            "Epoch 21/50\n",
            "110/110 [==============================] - 0s 2ms/step - loss: 0.1986 - accuracy: 0.9143 - precision: 0.8286 - recall: 0.8284\n",
            "Epoch 22/50\n",
            "110/110 [==============================] - 0s 2ms/step - loss: 0.1916 - accuracy: 0.9158 - precision: 0.8318 - recall: 0.8315\n",
            "Epoch 23/50\n",
            "110/110 [==============================] - 0s 2ms/step - loss: 0.1955 - accuracy: 0.9104 - precision: 0.8209 - recall: 0.8204\n",
            "Epoch 24/50\n",
            "110/110 [==============================] - 0s 2ms/step - loss: 0.1997 - accuracy: 0.9131 - precision: 0.8264 - recall: 0.8261\n",
            "Epoch 25/50\n",
            "110/110 [==============================] - 0s 2ms/step - loss: 0.1960 - accuracy: 0.9133 - precision: 0.8269 - recall: 0.8264\n",
            "Epoch 26/50\n",
            "110/110 [==============================] - 0s 2ms/step - loss: 0.1940 - accuracy: 0.9141 - precision: 0.8283 - recall: 0.8278\n",
            "Epoch 27/50\n",
            "110/110 [==============================] - 0s 2ms/step - loss: 0.1910 - accuracy: 0.9137 - precision: 0.8275 - recall: 0.8273\n",
            "Epoch 28/50\n",
            "110/110 [==============================] - 0s 2ms/step - loss: 0.1958 - accuracy: 0.9151 - precision: 0.8301 - recall: 0.8301\n",
            "Epoch 29/50\n",
            "110/110 [==============================] - 0s 2ms/step - loss: 0.1871 - accuracy: 0.9168 - precision: 0.8340 - recall: 0.8332\n",
            "Epoch 30/50\n",
            "110/110 [==============================] - 0s 2ms/step - loss: 0.1887 - accuracy: 0.9168 - precision: 0.8338 - recall: 0.8335\n",
            "Epoch 31/50\n",
            "110/110 [==============================] - 0s 2ms/step - loss: 0.1834 - accuracy: 0.9197 - precision: 0.8395 - recall: 0.8395\n",
            "Epoch 32/50\n",
            "110/110 [==============================] - 0s 2ms/step - loss: 0.1866 - accuracy: 0.9183 - precision: 0.8367 - recall: 0.8367\n",
            "Epoch 33/50\n",
            "110/110 [==============================] - 0s 2ms/step - loss: 0.1891 - accuracy: 0.9155 - precision: 0.8312 - recall: 0.8307\n",
            "Epoch 34/50\n",
            "110/110 [==============================] - 0s 2ms/step - loss: 0.1853 - accuracy: 0.9180 - precision: 0.8361 - recall: 0.8361\n",
            "Epoch 35/50\n",
            "110/110 [==============================] - 0s 2ms/step - loss: 0.1846 - accuracy: 0.9195 - precision: 0.8391 - recall: 0.8386\n",
            "Epoch 36/50\n",
            "110/110 [==============================] - 0s 2ms/step - loss: 0.1868 - accuracy: 0.9190 - precision: 0.8381 - recall: 0.8381\n",
            "Epoch 37/50\n",
            "110/110 [==============================] - 0s 2ms/step - loss: 0.1885 - accuracy: 0.9161 - precision: 0.8323 - recall: 0.8321\n",
            "Epoch 38/50\n",
            "110/110 [==============================] - 0s 2ms/step - loss: 0.1807 - accuracy: 0.9190 - precision: 0.8381 - recall: 0.8381\n",
            "Epoch 39/50\n",
            "110/110 [==============================] - 0s 2ms/step - loss: 0.1828 - accuracy: 0.9178 - precision: 0.8355 - recall: 0.8355\n",
            "Epoch 40/50\n",
            "110/110 [==============================] - 0s 2ms/step - loss: 0.1829 - accuracy: 0.9203 - precision: 0.8408 - recall: 0.8404\n",
            "Epoch 41/50\n",
            "110/110 [==============================] - 0s 2ms/step - loss: 0.1751 - accuracy: 0.9219 - precision: 0.8440 - recall: 0.8435\n",
            "Epoch 42/50\n",
            "110/110 [==============================] - 0s 2ms/step - loss: 0.1729 - accuracy: 0.9222 - precision: 0.8443 - recall: 0.8443\n",
            "Epoch 43/50\n",
            "110/110 [==============================] - 0s 2ms/step - loss: 0.1808 - accuracy: 0.9188 - precision: 0.8377 - recall: 0.8372\n",
            "Epoch 44/50\n",
            "110/110 [==============================] - 0s 2ms/step - loss: 0.1769 - accuracy: 0.9225 - precision: 0.8451 - recall: 0.8446\n",
            "Epoch 45/50\n",
            "110/110 [==============================] - 0s 2ms/step - loss: 0.1808 - accuracy: 0.9192 - precision: 0.8386 - recall: 0.8381\n",
            "Epoch 46/50\n",
            "110/110 [==============================] - 0s 2ms/step - loss: 0.1770 - accuracy: 0.9216 - precision: 0.8434 - recall: 0.8429\n",
            "Epoch 47/50\n",
            "110/110 [==============================] - 0s 2ms/step - loss: 0.1749 - accuracy: 0.9208 - precision: 0.8417 - recall: 0.8415\n",
            "Epoch 48/50\n",
            "110/110 [==============================] - 0s 2ms/step - loss: 0.1765 - accuracy: 0.9210 - precision: 0.8420 - recall: 0.8418\n",
            "Epoch 49/50\n",
            "110/110 [==============================] - 0s 2ms/step - loss: 0.1745 - accuracy: 0.9220 - precision: 0.8440 - recall: 0.8438\n",
            "Epoch 50/50\n",
            "110/110 [==============================] - 0s 2ms/step - loss: 0.1702 - accuracy: 0.9226 - precision: 0.8454 - recall: 0.8449\n",
            "Modelo entrenado!\n"
          ]
        }
      ]
    },
    {
      "cell_type": "markdown",
      "source": [
        "# Validacion"
      ],
      "metadata": {
        "id": "mCrGdlB4UtYN"
      }
    },
    {
      "cell_type": "code",
      "source": [
        "model.evaluate(x_test, y_test)"
      ],
      "metadata": {
        "colab": {
          "base_uri": "https://localhost:8080/"
        },
        "id": "XZWxmh64Z9BR",
        "outputId": "91e2ce63-8f77-43db-cfeb-5bcab160567a"
      },
      "execution_count": null,
      "outputs": [
        {
          "output_type": "stream",
          "name": "stdout",
          "text": [
            "28/28 [==============================] - 0s 1ms/step - loss: 1.9959 - accuracy: 0.9067 - precision: 0.8134 - recall: 0.8134\n"
          ]
        },
        {
          "output_type": "execute_result",
          "data": {
            "text/plain": [
              "[1.9958851337432861,\n",
              " 0.9067121744155884,\n",
              " 0.8134243488311768,\n",
              " 0.8134243488311768]"
            ]
          },
          "metadata": {},
          "execution_count": 372
        }
      ]
    },
    {
      "cell_type": "code",
      "source": [
        "model.predict(x_test[1:2])"
      ],
      "metadata": {
        "colab": {
          "base_uri": "https://localhost:8080/"
        },
        "id": "vk7dnFkkZzKu",
        "outputId": "ac18009c-547e-460e-8c3c-e5fac3ddeb5c"
      },
      "execution_count": null,
      "outputs": [
        {
          "output_type": "execute_result",
          "data": {
            "text/plain": [
              "array([[0.0000000e+00, 2.0916706e-33, 1.0000000e+00, 1.6326748e-14]],\n",
              "      dtype=float32)"
            ]
          },
          "metadata": {},
          "execution_count": 373
        }
      ]
    },
    {
      "cell_type": "code",
      "source": [
        "print(y_test)"
      ],
      "metadata": {
        "colab": {
          "base_uri": "https://localhost:8080/"
        },
        "id": "IKKNBplvD0U3",
        "outputId": "fdbe4989-1d16-499e-80c3-ae54e4821585"
      },
      "execution_count": null,
      "outputs": [
        {
          "output_type": "stream",
          "name": "stdout",
          "text": [
            "[[0. 0. 1. 0.]\n",
            " [0. 0. 1. 0.]\n",
            " [0. 0. 1. 0.]\n",
            " ...\n",
            " [0. 0. 0. 1.]\n",
            " [0. 0. 0. 1.]\n",
            " [0. 0. 1. 0.]]\n"
          ]
        }
      ]
    },
    {
      "cell_type": "code",
      "source": [
        "res = model.predict(x_test)\n",
        "\n",
        "preds = np.zeros(res.shape[0])\n",
        "true = np.zeros(res.shape[0])\n",
        "\n",
        "for i in range(len(preds)):\n",
        "    index_max = np.argmax(res[i])\n",
        "    preds[i] = index_max\n",
        "\n",
        "for i in range(len(true)):\n",
        "    index_max = np.argmax(y_test[i])\n",
        "    true[i] = index_max\n",
        "\n",
        "print(len(preds))\n",
        "\n",
        "confusion_mtx = tf.math.confusion_matrix(true, preds)\n",
        "plt.figure(figsize=(10, 8))\n",
        "sns.heatmap(confusion_mtx,\n",
        "            xticklabels=['C', 'B', 'A', 'AD'],\n",
        "            yticklabels=['C', 'B', 'A', 'AD'],\n",
        "            annot=True, fmt='g',\n",
        "            cmap=\"YlGnBu\")\n",
        "plt.xlabel('Prediction')\n",
        "plt.ylabel('Label')\n",
        "plt.show()"
      ],
      "metadata": {
        "colab": {
          "base_uri": "https://localhost:8080/",
          "height": 514
        },
        "id": "bLpQbg9AUvYo",
        "outputId": "c0a63224-77a3-4d39-97ce-3768415b7a2f"
      },
      "execution_count": null,
      "outputs": [
        {
          "output_type": "stream",
          "name": "stdout",
          "text": [
            "879\n"
          ]
        },
        {
          "output_type": "display_data",
          "data": {
            "text/plain": [
              "<Figure size 720x576 with 2 Axes>"
            ],
            "image/png": "[encoded data removed]"
          },
          "metadata": {
            "needs_background": "light"
          }
        }
      ]
    }
  ]
}