{
  "nbformat": 4,
  "nbformat_minor": 0,
  "metadata": {
    "kernelspec": {
      "display_name": "Python 3.8 (tensorflow)",
      "language": "python",
      "name": "tensorflow"
    },
    "language_info": {
      "codemirror_mode": {
        "name": "ipython",
        "version": 3
      },
      "file_extension": ".py",
      "mimetype": "text/x-python",
      "name": "python",
      "nbconvert_exporter": "python",
      "pygments_lexer": "ipython3",
      "version": "3.8.5"
    },
    "colab": {
      "name": "TB2-IA.ipynb",
      "provenance": [],
      "collapsed_sections": []
    }
  },
  "cells": [
    {
      "cell_type": "markdown",
      "metadata": {
        "id": "gIk6VJ2Ahyr4"
      },
      "source": [
        "![upc_logo.png](attachment:upc_logo.png)"
      ]
    },
    {
      "cell_type": "markdown",
      "metadata": {
        "id": "CD-CYlmuhyr7"
      },
      "source": [
        "<h3 align=\"center\">Inteligencia Artificial - WS7A</h3> "
      ]
    },
    {
      "cell_type": "markdown",
      "metadata": {
        "id": "Y8sFg8vhhyr8"
      },
      "source": [
        "### Predicción de precipitación, temperatura máxima y mínima en la zona de Pisac, Cusco."
      ]
    },
    {
      "cell_type": "markdown",
      "metadata": {
        "id": "0g1crC3Khyr8"
      },
      "source": [
        "#### 1. Importar las librerías necesarias"
      ]
    },
    {
      "cell_type": "code",
      "metadata": {
        "id": "aLa5e4AUhyr9"
      },
      "source": [
        "import tensorflow as tf\n",
        "import numpy as np\n",
        "import pandas as pd\n",
        "import matplotlib.pyplot as plt"
      ],
      "execution_count": 41,
      "outputs": []
    },
    {
      "cell_type": "markdown",
      "metadata": {
        "id": "VMQJWDR8hyr-"
      },
      "source": [
        "#### 2. Inicializar datos para entrenamiento"
      ]
    },
    {
      "cell_type": "markdown",
      "metadata": {
        "id": "zl74MkYahyr-"
      },
      "source": [
        "Cargamos datos historicos de la meteorología en Pisac, Cusco. Desde 1963 hasta 2014 es la data disponible."
      ]
    },
    {
      "cell_type": "code",
      "metadata": {
        "id": "yjVJr4A0Bh5y"
      },
      "source": [
        "dataP = pd.read_excel(\"DataMeteoEstacionPisac.xlsx\", names = [\"ano\",\"mes\",\"dia\",\"precipitacion\",\"max_temp\",\"min_temp\"])"
      ],
      "execution_count": 42,
      "outputs": []
    },
    {
      "cell_type": "code",
      "metadata": {
        "id": "53jUHioOB2XJ",
        "colab": {
          "base_uri": "https://localhost:8080/",
          "height": 419
        },
        "outputId": "99983017-61ff-4784-d2e4-d7121b59a4e7"
      },
      "source": [
        "dataP"
      ],
      "execution_count": 43,
      "outputs": [
        {
          "output_type": "execute_result",
          "data": {
            "text/html": [
              "<div>\n",
              "<style scoped>\n",
              "    .dataframe tbody tr th:only-of-type {\n",
              "        vertical-align: middle;\n",
              "    }\n",
              "\n",
              "    .dataframe tbody tr th {\n",
              "        vertical-align: top;\n",
              "    }\n",
              "\n",
              "    .dataframe thead th {\n",
              "        text-align: right;\n",
              "    }\n",
              "</style>\n",
              "<table border=\"1\" class=\"dataframe\">\n",
              "  <thead>\n",
              "    <tr style=\"text-align: right;\">\n",
              "      <th></th>\n",
              "      <th>ano</th>\n",
              "      <th>mes</th>\n",
              "      <th>dia</th>\n",
              "      <th>precipitacion</th>\n",
              "      <th>max_temp</th>\n",
              "      <th>min_temp</th>\n",
              "    </tr>\n",
              "  </thead>\n",
              "  <tbody>\n",
              "    <tr>\n",
              "      <th>0</th>\n",
              "      <td>1963</td>\n",
              "      <td>12</td>\n",
              "      <td>2</td>\n",
              "      <td>0.0</td>\n",
              "      <td>-99.9</td>\n",
              "      <td>-99.9</td>\n",
              "    </tr>\n",
              "    <tr>\n",
              "      <th>1</th>\n",
              "      <td>1963</td>\n",
              "      <td>12</td>\n",
              "      <td>3</td>\n",
              "      <td>0.0</td>\n",
              "      <td>-99.9</td>\n",
              "      <td>-99.9</td>\n",
              "    </tr>\n",
              "    <tr>\n",
              "      <th>2</th>\n",
              "      <td>1963</td>\n",
              "      <td>12</td>\n",
              "      <td>4</td>\n",
              "      <td>0.0</td>\n",
              "      <td>-99.9</td>\n",
              "      <td>-99.9</td>\n",
              "    </tr>\n",
              "    <tr>\n",
              "      <th>3</th>\n",
              "      <td>1963</td>\n",
              "      <td>12</td>\n",
              "      <td>5</td>\n",
              "      <td>0.0</td>\n",
              "      <td>-99.9</td>\n",
              "      <td>-99.9</td>\n",
              "    </tr>\n",
              "    <tr>\n",
              "      <th>4</th>\n",
              "      <td>1963</td>\n",
              "      <td>12</td>\n",
              "      <td>6</td>\n",
              "      <td>0.0</td>\n",
              "      <td>-99.9</td>\n",
              "      <td>-99.9</td>\n",
              "    </tr>\n",
              "    <tr>\n",
              "      <th>...</th>\n",
              "      <td>...</td>\n",
              "      <td>...</td>\n",
              "      <td>...</td>\n",
              "      <td>...</td>\n",
              "      <td>...</td>\n",
              "      <td>...</td>\n",
              "    </tr>\n",
              "    <tr>\n",
              "      <th>18469</th>\n",
              "      <td>2014</td>\n",
              "      <td>6</td>\n",
              "      <td>26</td>\n",
              "      <td>0.0</td>\n",
              "      <td>26.2</td>\n",
              "      <td>4.0</td>\n",
              "    </tr>\n",
              "    <tr>\n",
              "      <th>18470</th>\n",
              "      <td>2014</td>\n",
              "      <td>6</td>\n",
              "      <td>27</td>\n",
              "      <td>0.0</td>\n",
              "      <td>24.5</td>\n",
              "      <td>7.0</td>\n",
              "    </tr>\n",
              "    <tr>\n",
              "      <th>18471</th>\n",
              "      <td>2014</td>\n",
              "      <td>6</td>\n",
              "      <td>28</td>\n",
              "      <td>0.0</td>\n",
              "      <td>21.2</td>\n",
              "      <td>4.6</td>\n",
              "    </tr>\n",
              "    <tr>\n",
              "      <th>18472</th>\n",
              "      <td>2014</td>\n",
              "      <td>6</td>\n",
              "      <td>29</td>\n",
              "      <td>0.0</td>\n",
              "      <td>26.0</td>\n",
              "      <td>5.4</td>\n",
              "    </tr>\n",
              "    <tr>\n",
              "      <th>18473</th>\n",
              "      <td>2014</td>\n",
              "      <td>6</td>\n",
              "      <td>30</td>\n",
              "      <td>0.0</td>\n",
              "      <td>26.6</td>\n",
              "      <td>7.0</td>\n",
              "    </tr>\n",
              "  </tbody>\n",
              "</table>\n",
              "<p>18474 rows × 6 columns</p>\n",
              "</div>"
            ],
            "text/plain": [
              "        ano  mes  dia  precipitacion  max_temp  min_temp\n",
              "0      1963   12    2            0.0     -99.9     -99.9\n",
              "1      1963   12    3            0.0     -99.9     -99.9\n",
              "2      1963   12    4            0.0     -99.9     -99.9\n",
              "3      1963   12    5            0.0     -99.9     -99.9\n",
              "4      1963   12    6            0.0     -99.9     -99.9\n",
              "...     ...  ...  ...            ...       ...       ...\n",
              "18469  2014    6   26            0.0      26.2       4.0\n",
              "18470  2014    6   27            0.0      24.5       7.0\n",
              "18471  2014    6   28            0.0      21.2       4.6\n",
              "18472  2014    6   29            0.0      26.0       5.4\n",
              "18473  2014    6   30            0.0      26.6       7.0\n",
              "\n",
              "[18474 rows x 6 columns]"
            ]
          },
          "metadata": {},
          "execution_count": 43
        }
      ]
    },
    {
      "cell_type": "markdown",
      "metadata": {
        "id": "sHy97RNpWi9M"
      },
      "source": [
        "Los valores que son igual a -99.9 significan que no hay información disponible. Por lo tanto seran limpiados."
      ]
    },
    {
      "cell_type": "code",
      "metadata": {
        "id": "NKzLw6ZzCrTr"
      },
      "source": [
        "dataP = dataP[dataP.max_temp != -99.9]\n",
        "dataP = dataP[dataP.min_temp != -99.9]\n",
        "dataP = dataP[dataP.precipitacion != -99.9]\n",
        "#data = data[data.ano >= 2000]"
      ],
      "execution_count": 44,
      "outputs": []
    },
    {
      "cell_type": "code",
      "metadata": {
        "id": "PIGLggXeht5B",
        "colab": {
          "base_uri": "https://localhost:8080/",
          "height": 419
        },
        "outputId": "0c000479-daa7-4ebb-dcdb-e6756e4073fb"
      },
      "source": [
        "dataP"
      ],
      "execution_count": 45,
      "outputs": [
        {
          "output_type": "execute_result",
          "data": {
            "text/html": [
              "<div>\n",
              "<style scoped>\n",
              "    .dataframe tbody tr th:only-of-type {\n",
              "        vertical-align: middle;\n",
              "    }\n",
              "\n",
              "    .dataframe tbody tr th {\n",
              "        vertical-align: top;\n",
              "    }\n",
              "\n",
              "    .dataframe thead th {\n",
              "        text-align: right;\n",
              "    }\n",
              "</style>\n",
              "<table border=\"1\" class=\"dataframe\">\n",
              "  <thead>\n",
              "    <tr style=\"text-align: right;\">\n",
              "      <th></th>\n",
              "      <th>ano</th>\n",
              "      <th>mes</th>\n",
              "      <th>dia</th>\n",
              "      <th>precipitacion</th>\n",
              "      <th>max_temp</th>\n",
              "      <th>min_temp</th>\n",
              "    </tr>\n",
              "  </thead>\n",
              "  <tbody>\n",
              "    <tr>\n",
              "      <th>12143</th>\n",
              "      <td>1997</td>\n",
              "      <td>3</td>\n",
              "      <td>1</td>\n",
              "      <td>1.8</td>\n",
              "      <td>22.4</td>\n",
              "      <td>10.3</td>\n",
              "    </tr>\n",
              "    <tr>\n",
              "      <th>12144</th>\n",
              "      <td>1997</td>\n",
              "      <td>3</td>\n",
              "      <td>2</td>\n",
              "      <td>1.4</td>\n",
              "      <td>21.4</td>\n",
              "      <td>10.2</td>\n",
              "    </tr>\n",
              "    <tr>\n",
              "      <th>12145</th>\n",
              "      <td>1997</td>\n",
              "      <td>3</td>\n",
              "      <td>3</td>\n",
              "      <td>4.2</td>\n",
              "      <td>23.1</td>\n",
              "      <td>9.0</td>\n",
              "    </tr>\n",
              "    <tr>\n",
              "      <th>12146</th>\n",
              "      <td>1997</td>\n",
              "      <td>3</td>\n",
              "      <td>4</td>\n",
              "      <td>4.1</td>\n",
              "      <td>16.4</td>\n",
              "      <td>9.1</td>\n",
              "    </tr>\n",
              "    <tr>\n",
              "      <th>12147</th>\n",
              "      <td>1997</td>\n",
              "      <td>3</td>\n",
              "      <td>5</td>\n",
              "      <td>5.5</td>\n",
              "      <td>18.2</td>\n",
              "      <td>10.0</td>\n",
              "    </tr>\n",
              "    <tr>\n",
              "      <th>...</th>\n",
              "      <td>...</td>\n",
              "      <td>...</td>\n",
              "      <td>...</td>\n",
              "      <td>...</td>\n",
              "      <td>...</td>\n",
              "      <td>...</td>\n",
              "    </tr>\n",
              "    <tr>\n",
              "      <th>18469</th>\n",
              "      <td>2014</td>\n",
              "      <td>6</td>\n",
              "      <td>26</td>\n",
              "      <td>0.0</td>\n",
              "      <td>26.2</td>\n",
              "      <td>4.0</td>\n",
              "    </tr>\n",
              "    <tr>\n",
              "      <th>18470</th>\n",
              "      <td>2014</td>\n",
              "      <td>6</td>\n",
              "      <td>27</td>\n",
              "      <td>0.0</td>\n",
              "      <td>24.5</td>\n",
              "      <td>7.0</td>\n",
              "    </tr>\n",
              "    <tr>\n",
              "      <th>18471</th>\n",
              "      <td>2014</td>\n",
              "      <td>6</td>\n",
              "      <td>28</td>\n",
              "      <td>0.0</td>\n",
              "      <td>21.2</td>\n",
              "      <td>4.6</td>\n",
              "    </tr>\n",
              "    <tr>\n",
              "      <th>18472</th>\n",
              "      <td>2014</td>\n",
              "      <td>6</td>\n",
              "      <td>29</td>\n",
              "      <td>0.0</td>\n",
              "      <td>26.0</td>\n",
              "      <td>5.4</td>\n",
              "    </tr>\n",
              "    <tr>\n",
              "      <th>18473</th>\n",
              "      <td>2014</td>\n",
              "      <td>6</td>\n",
              "      <td>30</td>\n",
              "      <td>0.0</td>\n",
              "      <td>26.6</td>\n",
              "      <td>7.0</td>\n",
              "    </tr>\n",
              "  </tbody>\n",
              "</table>\n",
              "<p>6301 rows × 6 columns</p>\n",
              "</div>"
            ],
            "text/plain": [
              "        ano  mes  dia  precipitacion  max_temp  min_temp\n",
              "12143  1997    3    1            1.8      22.4      10.3\n",
              "12144  1997    3    2            1.4      21.4      10.2\n",
              "12145  1997    3    3            4.2      23.1       9.0\n",
              "12146  1997    3    4            4.1      16.4       9.1\n",
              "12147  1997    3    5            5.5      18.2      10.0\n",
              "...     ...  ...  ...            ...       ...       ...\n",
              "18469  2014    6   26            0.0      26.2       4.0\n",
              "18470  2014    6   27            0.0      24.5       7.0\n",
              "18471  2014    6   28            0.0      21.2       4.6\n",
              "18472  2014    6   29            0.0      26.0       5.4\n",
              "18473  2014    6   30            0.0      26.6       7.0\n",
              "\n",
              "[6301 rows x 6 columns]"
            ]
          },
          "metadata": {},
          "execution_count": 45
        }
      ]
    },
    {
      "cell_type": "code",
      "metadata": {
        "id": "GFTBYvSpiX1B",
        "colab": {
          "base_uri": "https://localhost:8080/",
          "height": 297
        },
        "outputId": "f82931b1-20c8-402e-fb74-fcdbf42b26d3"
      },
      "source": [
        "dataP.describe()"
      ],
      "execution_count": 46,
      "outputs": [
        {
          "output_type": "execute_result",
          "data": {
            "text/html": [
              "<div>\n",
              "<style scoped>\n",
              "    .dataframe tbody tr th:only-of-type {\n",
              "        vertical-align: middle;\n",
              "    }\n",
              "\n",
              "    .dataframe tbody tr th {\n",
              "        vertical-align: top;\n",
              "    }\n",
              "\n",
              "    .dataframe thead th {\n",
              "        text-align: right;\n",
              "    }\n",
              "</style>\n",
              "<table border=\"1\" class=\"dataframe\">\n",
              "  <thead>\n",
              "    <tr style=\"text-align: right;\">\n",
              "      <th></th>\n",
              "      <th>ano</th>\n",
              "      <th>mes</th>\n",
              "      <th>dia</th>\n",
              "      <th>precipitacion</th>\n",
              "      <th>max_temp</th>\n",
              "      <th>min_temp</th>\n",
              "    </tr>\n",
              "  </thead>\n",
              "  <tbody>\n",
              "    <tr>\n",
              "      <th>count</th>\n",
              "      <td>6301.000000</td>\n",
              "      <td>6301.000000</td>\n",
              "      <td>6301.000000</td>\n",
              "      <td>6301.000000</td>\n",
              "      <td>6301.000000</td>\n",
              "      <td>6301.000000</td>\n",
              "    </tr>\n",
              "    <tr>\n",
              "      <th>mean</th>\n",
              "      <td>2005.362641</td>\n",
              "      <td>6.486272</td>\n",
              "      <td>15.730678</td>\n",
              "      <td>1.685415</td>\n",
              "      <td>22.729630</td>\n",
              "      <td>8.038407</td>\n",
              "    </tr>\n",
              "    <tr>\n",
              "      <th>std</th>\n",
              "      <td>5.007619</td>\n",
              "      <td>3.438440</td>\n",
              "      <td>8.801370</td>\n",
              "      <td>4.036328</td>\n",
              "      <td>2.611351</td>\n",
              "      <td>2.734598</td>\n",
              "    </tr>\n",
              "    <tr>\n",
              "      <th>min</th>\n",
              "      <td>1997.000000</td>\n",
              "      <td>1.000000</td>\n",
              "      <td>1.000000</td>\n",
              "      <td>0.000000</td>\n",
              "      <td>10.900000</td>\n",
              "      <td>-2.500000</td>\n",
              "    </tr>\n",
              "    <tr>\n",
              "      <th>25%</th>\n",
              "      <td>2001.000000</td>\n",
              "      <td>4.000000</td>\n",
              "      <td>8.000000</td>\n",
              "      <td>0.000000</td>\n",
              "      <td>21.100000</td>\n",
              "      <td>6.000000</td>\n",
              "    </tr>\n",
              "    <tr>\n",
              "      <th>50%</th>\n",
              "      <td>2005.000000</td>\n",
              "      <td>6.000000</td>\n",
              "      <td>16.000000</td>\n",
              "      <td>0.000000</td>\n",
              "      <td>23.000000</td>\n",
              "      <td>8.700000</td>\n",
              "    </tr>\n",
              "    <tr>\n",
              "      <th>75%</th>\n",
              "      <td>2010.000000</td>\n",
              "      <td>9.000000</td>\n",
              "      <td>23.000000</td>\n",
              "      <td>1.200000</td>\n",
              "      <td>24.600000</td>\n",
              "      <td>10.200000</td>\n",
              "    </tr>\n",
              "    <tr>\n",
              "      <th>max</th>\n",
              "      <td>2014.000000</td>\n",
              "      <td>12.000000</td>\n",
              "      <td>31.000000</td>\n",
              "      <td>39.200000</td>\n",
              "      <td>30.600000</td>\n",
              "      <td>14.100000</td>\n",
              "    </tr>\n",
              "  </tbody>\n",
              "</table>\n",
              "</div>"
            ],
            "text/plain": [
              "               ano          mes  ...     max_temp     min_temp\n",
              "count  6301.000000  6301.000000  ...  6301.000000  6301.000000\n",
              "mean   2005.362641     6.486272  ...    22.729630     8.038407\n",
              "std       5.007619     3.438440  ...     2.611351     2.734598\n",
              "min    1997.000000     1.000000  ...    10.900000    -2.500000\n",
              "25%    2001.000000     4.000000  ...    21.100000     6.000000\n",
              "50%    2005.000000     6.000000  ...    23.000000     8.700000\n",
              "75%    2010.000000     9.000000  ...    24.600000    10.200000\n",
              "max    2014.000000    12.000000  ...    30.600000    14.100000\n",
              "\n",
              "[8 rows x 6 columns]"
            ]
          },
          "metadata": {},
          "execution_count": 46
        }
      ]
    },
    {
      "cell_type": "code",
      "metadata": {
        "id": "zZJefjGUMc2T"
      },
      "source": [
        "##### DATOS DE PISAC\n",
        "count_rowP = dataP.shape[0]\n",
        "fechas1 = [[dataP.iloc[i]['ano'],dataP.iloc[i]['mes'],dataP.iloc[i]['dia']]for i in range(count_rowP)]\n",
        "anoArr1 = [i[0] for i in fechas1]\n",
        "mesArr1 = [i[1] for i in fechas1]\n",
        "diaArr1 = [i[2] for i in fechas1]\n",
        "meteo1 = [[dataP.iloc[i]['precipitacion'],dataP.iloc[i]['max_temp'],dataP.iloc[i]['min_temp']]for i in range(count_rowP)]\n",
        "precArr1 = [i[0] for i in meteo1]\n",
        "maxArr1 = [i[1] for i in meteo1]\n",
        "minArr1 = [i[2] for i in meteo1]"
      ],
      "execution_count": 47,
      "outputs": []
    },
    {
      "cell_type": "code",
      "metadata": {
        "id": "Pfdbrv5qPPlu"
      },
      "source": [
        "fechas1 = np.array(fechas1, dtype = float)\n",
        "meteo1 = np.array(meteo1, dtype = float)\n",
        "anoArr1 = np.array(anoArr1, dtype = int)\n",
        "mesArr1 = np.array(mesArr1, dtype = int)\n",
        "diaArr1 = np.array(diaArr1, dtype = int)\n",
        "precArr1 = np.array(precArr1, dtype = float)\n",
        "maxArr1 = np.array(maxArr1, dtype = float)\n",
        "minArr1 = np.array(minArr1, dtype = float)"
      ],
      "execution_count": 48,
      "outputs": []
    },
    {
      "cell_type": "markdown",
      "metadata": {
        "id": "cKHyLDiThyr-"
      },
      "source": [
        "#### 3. Definir la estructura de la red y crear el modelo"
      ]
    },
    {
      "cell_type": "markdown",
      "metadata": {
        "id": "alzJPYEVhyr_"
      },
      "source": [
        "La red estará compuesta múltiples capas para cada entrada. Habra una capa oculta seguida de una de concatenamiento con las otras entradas. Por último, una capa mas previa a la salida."
      ]
    },
    {
      "cell_type": "code",
      "metadata": {
        "id": "6FzXCergX9Wd",
        "colab": {
          "base_uri": "https://localhost:8080/"
        },
        "outputId": "e432cf5e-5cee-403b-d6aa-47ca3c695906"
      },
      "source": [
        "# entradas\n",
        "ano = tf.keras.Input(shape = [1,])\n",
        "mes = tf.keras.Input(shape = [1,])\n",
        "dia = tf.keras.Input(shape = [1,])\n",
        "\n",
        "# primera capa\n",
        "aLayer = tf.keras.layers.Dense(12)(ano)\n",
        "mLayer = tf.keras.layers.Dense(12)(mes)\n",
        "dLayer = tf.keras.layers.Dense(12)(dia)\n",
        "\n",
        "# capa de concatenado\n",
        "p = tf.keras.layers.concatenate([mLayer,dLayer])\n",
        "cma = tf.keras.layers.concatenate([aLayer,mLayer,dLayer])\n",
        "cmi = tf.keras.layers.concatenate([aLayer,mLayer,dLayer])\n",
        "\n",
        "# tercera capa\n",
        "postp = tf.keras.layers.Dense(12, activation='sigmoid')(p)\n",
        "postm = tf.keras.layers.Dense(12)(cma)\n",
        "postd = tf.keras.layers.Dense(12)(cmi)\n",
        "\n",
        "# salida\n",
        "salida1 = tf.keras.layers.Dense(units=1)(postp)\n",
        "salida2 = tf.keras.layers.Dense(units=1)(postm)\n",
        "salida3 = tf.keras.layers.Dense(units=1)(postd)\n",
        "\n",
        "model = tf.keras.Model(inputs = [ano, mes, dia], outputs = [salida1, salida2, salida3], name = 'prueba')\n",
        "\n",
        "model.compile(\n",
        "    optimizer=tf.keras.optimizers.Adam(0.1),\n",
        "    loss='mean_squared_error'\n",
        ")\n",
        "model.summary()"
      ],
      "execution_count": 49,
      "outputs": [
        {
          "output_type": "stream",
          "name": "stdout",
          "text": [
            "Model: \"prueba\"\n",
            "__________________________________________________________________________________________________\n",
            "Layer (type)                    Output Shape         Param #     Connected to                     \n",
            "==================================================================================================\n",
            "input_8 (InputLayer)            [(None, 1)]          0                                            \n",
            "__________________________________________________________________________________________________\n",
            "input_9 (InputLayer)            [(None, 1)]          0                                            \n",
            "__________________________________________________________________________________________________\n",
            "input_7 (InputLayer)            [(None, 1)]          0                                            \n",
            "__________________________________________________________________________________________________\n",
            "dense_19 (Dense)                (None, 12)           24          input_8[0][0]                    \n",
            "__________________________________________________________________________________________________\n",
            "dense_20 (Dense)                (None, 12)           24          input_9[0][0]                    \n",
            "__________________________________________________________________________________________________\n",
            "dense_18 (Dense)                (None, 12)           24          input_7[0][0]                    \n",
            "__________________________________________________________________________________________________\n",
            "concatenate_6 (Concatenate)     (None, 24)           0           dense_19[0][0]                   \n",
            "                                                                 dense_20[0][0]                   \n",
            "__________________________________________________________________________________________________\n",
            "concatenate_7 (Concatenate)     (None, 36)           0           dense_18[0][0]                   \n",
            "                                                                 dense_19[0][0]                   \n",
            "                                                                 dense_20[0][0]                   \n",
            "__________________________________________________________________________________________________\n",
            "concatenate_8 (Concatenate)     (None, 36)           0           dense_18[0][0]                   \n",
            "                                                                 dense_19[0][0]                   \n",
            "                                                                 dense_20[0][0]                   \n",
            "__________________________________________________________________________________________________\n",
            "dense_21 (Dense)                (None, 12)           300         concatenate_6[0][0]              \n",
            "__________________________________________________________________________________________________\n",
            "dense_22 (Dense)                (None, 12)           444         concatenate_7[0][0]              \n",
            "__________________________________________________________________________________________________\n",
            "dense_23 (Dense)                (None, 12)           444         concatenate_8[0][0]              \n",
            "__________________________________________________________________________________________________\n",
            "dense_24 (Dense)                (None, 1)            13          dense_21[0][0]                   \n",
            "__________________________________________________________________________________________________\n",
            "dense_25 (Dense)                (None, 1)            13          dense_22[0][0]                   \n",
            "__________________________________________________________________________________________________\n",
            "dense_26 (Dense)                (None, 1)            13          dense_23[0][0]                   \n",
            "==================================================================================================\n",
            "Total params: 1,299\n",
            "Trainable params: 1,299\n",
            "Non-trainable params: 0\n",
            "__________________________________________________________________________________________________\n"
          ]
        }
      ]
    },
    {
      "cell_type": "code",
      "metadata": {
        "id": "912Ml_BkCkBI",
        "colab": {
          "base_uri": "https://localhost:8080/",
          "height": 442
        },
        "outputId": "aaeb3bdf-35b3-48fd-cdb8-f721099ea883"
      },
      "source": [
        "tf.keras.utils.plot_model(model, to_file='model_plot.png', show_shapes=True, show_layer_names=True)"
      ],
      "execution_count": 50,
      "outputs": [
        {
          "output_type": "execute_result",
          "data": {
            "image/png": "[encoded data removed]",
            "text/plain": [
              "<IPython.core.display.Image object>"
            ]
          },
          "metadata": {},
          "execution_count": 50
        }
      ]
    },
    {
      "cell_type": "markdown",
      "metadata": {
        "id": "p4rZwYQ-hyr_"
      },
      "source": [
        "#### 4. Entrenar el modelo"
      ]
    },
    {
      "cell_type": "markdown",
      "metadata": {
        "id": "ybkAlx_uhysA"
      },
      "source": [
        "Ejecutamos el entrenamiento de la red (aprendizaje automático) mediante la funcion **fit del modelo** creado\n",
        "(las epocas o epochs son la cantidad de iteracciones de entrenamiento)."
      ]
    },
    {
      "cell_type": "code",
      "metadata": {
        "id": "VSoSZs7vOnhI",
        "colab": {
          "base_uri": "https://localhost:8080/"
        },
        "outputId": "818ea0b8-d3fe-4289-fd76-f7005f42e300"
      },
      "source": [
        "print(\"Comenzando entrenamiento...\")\n",
        "historial = model.fit([anoArr1,mesArr1,diaArr1], [precArr1,maxArr1,minArr1], epochs=30, verbose=True)\n",
        "print(\"Modelo entrenado!\")"
      ],
      "execution_count": 51,
      "outputs": [
        {
          "output_type": "stream",
          "name": "stdout",
          "text": [
            "Comenzando entrenamiento...\n",
            "Epoch 1/30\n",
            "197/197 [==============================] - 1s 2ms/step - loss: 88260.8516 - dense_24_loss: 15.8286 - dense_25_loss: 41101.9805 - dense_26_loss: 47143.0117\n",
            "Epoch 2/30\n",
            "197/197 [==============================] - 0s 2ms/step - loss: 31.1310 - dense_24_loss: 15.3149 - dense_25_loss: 7.0463 - dense_26_loss: 8.7698\n",
            "Epoch 3/30\n",
            "197/197 [==============================] - 0s 2ms/step - loss: 29.8890 - dense_24_loss: 15.0238 - dense_25_loss: 6.9100 - dense_26_loss: 7.9552\n",
            "Epoch 4/30\n",
            "197/197 [==============================] - 0s 2ms/step - loss: 29.4208 - dense_24_loss: 14.9520 - dense_25_loss: 6.7368 - dense_26_loss: 7.7320\n",
            "Epoch 5/30\n",
            "197/197 [==============================] - 0s 2ms/step - loss: 29.8974 - dense_24_loss: 15.1933 - dense_25_loss: 7.0362 - dense_26_loss: 7.6680\n",
            "Epoch 6/30\n",
            "197/197 [==============================] - 0s 2ms/step - loss: 29.9246 - dense_24_loss: 15.1702 - dense_25_loss: 7.0655 - dense_26_loss: 7.6889\n",
            "Epoch 7/30\n",
            "197/197 [==============================] - 0s 2ms/step - loss: 29.4881 - dense_24_loss: 14.9666 - dense_25_loss: 6.8680 - dense_26_loss: 7.6535\n",
            "Epoch 8/30\n",
            "197/197 [==============================] - 0s 2ms/step - loss: 29.7749 - dense_24_loss: 14.9618 - dense_25_loss: 6.9450 - dense_26_loss: 7.8681\n",
            "Epoch 9/30\n",
            "197/197 [==============================] - 0s 2ms/step - loss: 30.8625 - dense_24_loss: 15.0908 - dense_25_loss: 7.9240 - dense_26_loss: 7.8477\n",
            "Epoch 10/30\n",
            "197/197 [==============================] - 0s 2ms/step - loss: 30.5513 - dense_24_loss: 15.4351 - dense_25_loss: 7.3815 - dense_26_loss: 7.7346\n",
            "Epoch 11/30\n",
            "197/197 [==============================] - 0s 2ms/step - loss: 30.1405 - dense_24_loss: 14.9777 - dense_25_loss: 7.3970 - dense_26_loss: 7.7658\n",
            "Epoch 12/30\n",
            "197/197 [==============================] - 0s 2ms/step - loss: 30.3096 - dense_24_loss: 14.9160 - dense_25_loss: 7.3903 - dense_26_loss: 8.0032\n",
            "Epoch 13/30\n",
            "197/197 [==============================] - 0s 2ms/step - loss: 30.7558 - dense_24_loss: 15.0673 - dense_25_loss: 7.6232 - dense_26_loss: 8.0653\n",
            "Epoch 14/30\n",
            "197/197 [==============================] - 0s 2ms/step - loss: 31.3580 - dense_24_loss: 15.0614 - dense_25_loss: 8.2282 - dense_26_loss: 8.0684\n",
            "Epoch 15/30\n",
            "197/197 [==============================] - 0s 2ms/step - loss: 31.3052 - dense_24_loss: 14.9513 - dense_25_loss: 8.1766 - dense_26_loss: 8.1773\n",
            "Epoch 16/30\n",
            "197/197 [==============================] - 0s 2ms/step - loss: 30.8669 - dense_24_loss: 14.9997 - dense_25_loss: 7.7915 - dense_26_loss: 8.0757\n",
            "Epoch 17/30\n",
            "197/197 [==============================] - 0s 2ms/step - loss: 31.5710 - dense_24_loss: 15.0358 - dense_25_loss: 8.3172 - dense_26_loss: 8.2179\n",
            "Epoch 18/30\n",
            "197/197 [==============================] - 0s 2ms/step - loss: 30.8914 - dense_24_loss: 14.9769 - dense_25_loss: 7.7888 - dense_26_loss: 8.1257\n",
            "Epoch 19/30\n",
            "197/197 [==============================] - 0s 2ms/step - loss: 32.5996 - dense_24_loss: 14.9920 - dense_25_loss: 9.0785 - dense_26_loss: 8.5291\n",
            "Epoch 20/30\n",
            "197/197 [==============================] - 0s 2ms/step - loss: 31.6437 - dense_24_loss: 15.0228 - dense_25_loss: 8.1190 - dense_26_loss: 8.5020\n",
            "Epoch 21/30\n",
            "197/197 [==============================] - 0s 2ms/step - loss: 32.0327 - dense_24_loss: 15.0566 - dense_25_loss: 8.3780 - dense_26_loss: 8.5981\n",
            "Epoch 22/30\n",
            "197/197 [==============================] - 0s 2ms/step - loss: 30.9040 - dense_24_loss: 15.0118 - dense_25_loss: 7.6532 - dense_26_loss: 8.2391\n",
            "Epoch 23/30\n",
            "197/197 [==============================] - 0s 2ms/step - loss: 30.3898 - dense_24_loss: 14.9782 - dense_25_loss: 7.3136 - dense_26_loss: 8.0980\n",
            "Epoch 24/30\n",
            "197/197 [==============================] - 0s 2ms/step - loss: 31.0651 - dense_24_loss: 15.2822 - dense_25_loss: 7.3133 - dense_26_loss: 8.4697\n",
            "Epoch 25/30\n",
            "197/197 [==============================] - 0s 2ms/step - loss: 31.2510 - dense_24_loss: 15.1896 - dense_25_loss: 7.6240 - dense_26_loss: 8.4374\n",
            "Epoch 26/30\n",
            "197/197 [==============================] - 0s 2ms/step - loss: 30.2665 - dense_24_loss: 14.9808 - dense_25_loss: 7.0624 - dense_26_loss: 8.2232\n",
            "Epoch 27/30\n",
            "197/197 [==============================] - 0s 2ms/step - loss: 30.6001 - dense_24_loss: 14.9683 - dense_25_loss: 7.1379 - dense_26_loss: 8.4940\n",
            "Epoch 28/30\n",
            "197/197 [==============================] - 0s 2ms/step - loss: 30.8026 - dense_24_loss: 15.1278 - dense_25_loss: 7.4828 - dense_26_loss: 8.1920\n",
            "Epoch 29/30\n",
            "197/197 [==============================] - 0s 2ms/step - loss: 30.3669 - dense_24_loss: 15.3907 - dense_25_loss: 6.9337 - dense_26_loss: 8.0426\n",
            "Epoch 30/30\n",
            "197/197 [==============================] - 0s 2ms/step - loss: 30.2932 - dense_24_loss: 15.1944 - dense_25_loss: 6.8637 - dense_26_loss: 8.2350\n",
            "Modelo entrenado!\n"
          ]
        }
      ]
    },
    {
      "cell_type": "markdown",
      "metadata": {
        "id": "kmGQrxqWhysB"
      },
      "source": [
        "#### 5. Visualización gráfica del entrenamiento"
      ]
    },
    {
      "cell_type": "code",
      "metadata": {
        "id": "zb0omwJvhysC",
        "colab": {
          "base_uri": "https://localhost:8080/",
          "height": 296
        },
        "outputId": "4e732223-e06c-429b-d619-5c2c9e1d7733"
      },
      "source": [
        "plt.xlabel(\"# Epoca\")\n",
        "plt.ylabel(\"Magnitud de pérdida\")\n",
        "plt.plot(historial.history[\"loss\"])"
      ],
      "execution_count": 52,
      "outputs": [
        {
          "output_type": "execute_result",
          "data": {
            "text/plain": [
              "[<matplotlib.lines.Line2D at 0x7f3d4bc4bcd0>]"
            ]
          },
          "metadata": {},
          "execution_count": 52
        },
        {
          "output_type": "display_data",
          "data": {
            "image/png": "[encoded data removed]",
            "text/plain": [
              "<Figure size 432x288 with 1 Axes>"
            ]
          },
          "metadata": {
            "needs_background": "light"
          }
        }
      ]
    },
    {
      "cell_type": "markdown",
      "metadata": {
        "id": "SSO9HWlthysC"
      },
      "source": [
        "#### 6. Realizar una predicción"
      ]
    },
    {
      "cell_type": "markdown",
      "metadata": {
        "id": "qytoBe-5hysC"
      },
      "source": [
        "Una vez entrenada la red neuronal podemos probar el modelo y verificar que tanto aprendió."
      ]
    },
    {
      "cell_type": "code",
      "metadata": {
        "id": "1i04fzxohysD",
        "colab": {
          "base_uri": "https://localhost:8080/"
        },
        "outputId": "59bb0029-9eb5-4b90-bbde-cea360d8391d"
      },
      "source": [
        "print(\"Hagamos una predicción!\")\n",
        "inp = np.array([[2022.0], [1.0], [1.0]])\n",
        "resultado = model.predict([inp[0],inp[1],inp[2]])\n",
        "print(\"Pronostico para el \" + str(int(inp[2])) + \"/\" + str(int(inp[1])) + \"/\" + str(int(inp[0])))\n",
        "print(\"El resultado es: \\n\" \n",
        "      \"Precipitacion Potencial: \"+ str(resultado[0][0][0])+\n",
        "      \"\\nTemperatura Maxima: \" + str(resultado[1][0][0])+\n",
        "      \"\\nTemperaturan Minima: \" + str(resultado[2][0][0]))"
      ],
      "execution_count": 53,
      "outputs": [
        {
          "output_type": "stream",
          "name": "stdout",
          "text": [
            "Hagamos una predicción!\n",
            "Pronostico para el 1/1/2022\n",
            "El resultado es: \n",
            "Precipitacion Potencial: 3.1803226\n",
            "Temperatura Maxima: 21.668364\n",
            "Temperaturan Minima: 8.082115\n"
          ]
        }
      ]
    },
    {
      "cell_type": "code",
      "metadata": {
        "cellView": "form",
        "id": "F5omFnLgt1jk",
        "colab": {
          "base_uri": "https://localhost:8080/"
        },
        "outputId": "3095b624-a89b-476b-e90a-1d187d511710"
      },
      "source": [
        "#@title Siete dias\n",
        "an =  2021#@param {type:\"integer\"}\n",
        "me =  12#@param {type:\"integer\"}\n",
        "di =  23#@param {type:\"integer\"}\n",
        "a = float(an)\n",
        "m = float(me)\n",
        "d = float(di)\n",
        "\n",
        "res = []\n",
        "dates = []\n",
        "for i in range(7):\n",
        "    if d == 32:\n",
        "        d = 1\n",
        "        m += 1\n",
        "    inp = np.array([[a],[m],[d]])\n",
        "    res.append(model.predict([inp[0],inp[1],inp[2]]))\n",
        "    dates.append((m, d))\n",
        "    d += 1\n",
        "\n",
        "#print(\"El resultado es: \\n\" \n",
        "for i in range(7):\n",
        "    print(\"Pronostico para el \" + str(int(dates[i][1])) + \"/\" + str(int(dates[i][0])) + \"/\" + str(int(inp[0])) + \"\\n\"\n",
        "      \"Precipitacion Potencial : \"+ str(res[i][0][0][0])+\n",
        "      \"\\nTemperatura Maxima: \" + str(res[i][1][0][0])+\n",
        "      \"\\nTemperaturan Minima: \" + str(res[i][2][0][0]))\n",
        "    \n",
        "    print(\"\")"
      ],
      "execution_count": 54,
      "outputs": [
        {
          "output_type": "stream",
          "name": "stdout",
          "text": [
            "Pronostico para el 23/12/2021\n",
            "Precipitacion Potencial : 1.5671446\n",
            "Temperatura Maxima: 23.90068\n",
            "Temperaturan Minima: 7.941647\n",
            "\n",
            "Pronostico para el 24/12/2021\n",
            "Precipitacion Potencial : 1.5361571\n",
            "Temperatura Maxima: 23.90002\n",
            "Temperaturan Minima: 7.954312\n",
            "\n",
            "Pronostico para el 25/12/2021\n",
            "Precipitacion Potencial : 1.4046626\n",
            "Temperatura Maxima: 23.899364\n",
            "Temperaturan Minima: 7.9669776\n",
            "\n",
            "Pronostico para el 26/12/2021\n",
            "Precipitacion Potencial : 1.2377713\n",
            "Temperatura Maxima: 23.898703\n",
            "Temperaturan Minima: 7.979644\n",
            "\n",
            "Pronostico para el 27/12/2021\n",
            "Precipitacion Potencial : 1.1844764\n",
            "Temperatura Maxima: 23.898046\n",
            "Temperaturan Minima: 7.992308\n",
            "\n",
            "Pronostico para el 28/12/2021\n",
            "Precipitacion Potencial : 1.1757479\n",
            "Temperatura Maxima: 23.897387\n",
            "Temperaturan Minima: 8.0049715\n",
            "\n",
            "Pronostico para el 29/12/2021\n",
            "Precipitacion Potencial : 1.1745105\n",
            "Temperatura Maxima: 23.896725\n",
            "Temperaturan Minima: 8.017639\n",
            "\n"
          ]
        }
      ]
    },
    {
      "cell_type": "code",
      "metadata": {
        "cellView": "form",
        "id": "9qp7EyptRvw9",
        "colab": {
          "base_uri": "https://localhost:8080/"
        },
        "outputId": "a4879861-c77b-40f3-fd43-b375fc589373"
      },
      "source": [
        "#@title Quincenas de todo un año\n",
        "year =  2021#@param {type:\"integer\"}\n",
        "a = float(year)\n",
        "m = np.arange(12)\n",
        "m = [i+1 for i in m]\n",
        "\n",
        "res = []\n",
        "dates = []\n",
        "for i in range(12):\n",
        "    inp = np.array([[a],[m[i]],[15]])\n",
        "    res.append(model.predict([[inp[0]],[inp[1]],[inp[2]]]))\n",
        "\n",
        "#print(\"El resultado es: \\n\" \n",
        "for i in range(12):\n",
        "    print(\"Pronostico para el \" + str(15) + \"/\" + str(i+1) + \"\\n\"\n",
        "      \"Precipitacion Potencial: \"+ str(res[i][0][0][0])+\n",
        "      \"\\nTemperatura Maxima: \" + str(res[i][1][0][0])+\n",
        "      \"\\nTemperaturan Minima: \" + str(res[i][2][0][0]))\n",
        "    \n",
        "    print(\"\")"
      ],
      "execution_count": 60,
      "outputs": [
        {
          "output_type": "stream",
          "name": "stdout",
          "text": [
            "Pronostico para el 15/1\n",
            "Precipitacion Potencial: 4.258894\n",
            "Temperatura Maxima: 21.64808\n",
            "Temperaturan Minima: 8.25563\n",
            "\n",
            "Pronostico para el 15/2\n",
            "Precipitacion Potencial: 4.292432\n",
            "Temperatura Maxima: 21.853342\n",
            "Temperaturan Minima: 8.21788\n",
            "\n",
            "Pronostico para el 15/3\n",
            "Precipitacion Potencial: 4.5679026\n",
            "Temperatura Maxima: 22.058603\n",
            "Temperaturan Minima: 8.180121\n",
            "\n",
            "Pronostico para el 15/4\n",
            "Precipitacion Potencial: 1.6496811\n",
            "Temperatura Maxima: 22.263866\n",
            "Temperaturan Minima: 8.142369\n",
            "\n",
            "Pronostico para el 15/5\n",
            "Precipitacion Potencial: 1.1743116\n",
            "Temperatura Maxima: 22.469126\n",
            "Temperaturan Minima: 8.104615\n",
            "\n",
            "Pronostico para el 15/6\n",
            "Precipitacion Potencial: 1.1743116\n",
            "Temperatura Maxima: 22.674383\n",
            "Temperaturan Minima: 8.066859\n",
            "\n",
            "Pronostico para el 15/7\n",
            "Precipitacion Potencial: 1.1743116\n",
            "Temperatura Maxima: 22.879646\n",
            "Temperaturan Minima: 8.029102\n",
            "\n",
            "Pronostico para el 15/8\n",
            "Precipitacion Potencial: 1.1744018\n",
            "Temperatura Maxima: 23.084908\n",
            "Temperaturan Minima: 7.991351\n",
            "\n",
            "Pronostico para el 15/9\n",
            "Precipitacion Potencial: 1.2618346\n",
            "Temperatura Maxima: 23.290167\n",
            "Temperaturan Minima: 7.9535933\n",
            "\n",
            "Pronostico para el 15/10\n",
            "Precipitacion Potencial: 1.5714788\n",
            "Temperatura Maxima: 23.495432\n",
            "Temperaturan Minima: 7.9158397\n",
            "\n",
            "Pronostico para el 15/11\n",
            "Precipitacion Potencial: 1.5726128\n",
            "Temperatura Maxima: 23.700695\n",
            "Temperaturan Minima: 7.878085\n",
            "\n",
            "Pronostico para el 15/12\n",
            "Precipitacion Potencial: 1.5726137\n",
            "Temperatura Maxima: 23.905954\n",
            "Temperaturan Minima: 7.8403287\n",
            "\n"
          ]
        }
      ]
    },
    {
      "cell_type": "markdown",
      "metadata": {
        "id": "CaGwBe8DVMu_"
      },
      "source": [
        "# Conversion para su uso en Javascript y HTML"
      ]
    },
    {
      "cell_type": "code",
      "metadata": {
        "id": "xQiizpe-ha75"
      },
      "source": [
        "#Exportar el modelo en formato h5\n",
        "model.save('clima_pisac.h5')"
      ],
      "execution_count": 61,
      "outputs": []
    },
    {
      "cell_type": "code",
      "metadata": {
        "id": "J4qJtvyDheWd",
        "colab": {
          "base_uri": "https://localhost:8080/"
        },
        "outputId": "52a69cbe-ce5b-402e-ab16-9474080f7eaf"
      },
      "source": [
        "#Para convertirlo a tensorflow.js, primero debemos instalar la libreria\n",
        "!pip install tensorflowjs"
      ],
      "execution_count": 57,
      "outputs": [
        {
          "output_type": "stream",
          "name": "stdout",
          "text": [
            "Requirement already satisfied: tensorflowjs in /usr/local/lib/python3.7/dist-packages (3.11.0)\n",
            "Requirement already satisfied: six<2,>=1.12.0 in /usr/local/lib/python3.7/dist-packages (from tensorflowjs) (1.15.0)\n",
            "Requirement already satisfied: tensorflow<3,>=2.1.0 in /usr/local/lib/python3.7/dist-packages (from tensorflowjs) (2.6.0)\n",
            "Requirement already satisfied: tensorflow-hub<0.13,>=0.7.0 in /usr/local/lib/python3.7/dist-packages (from tensorflowjs) (0.12.0)\n",
            "Requirement already satisfied: clang~=5.0 in /usr/local/lib/python3.7/dist-packages (from tensorflow<3,>=2.1.0->tensorflowjs) (5.0)\n",
            "Requirement already satisfied: google-pasta~=0.2 in /usr/local/lib/python3.7/dist-packages (from tensorflow<3,>=2.1.0->tensorflowjs) (0.2.0)\n",
            "Requirement already satisfied: flatbuffers~=1.12.0 in /usr/local/lib/python3.7/dist-packages (from tensorflow<3,>=2.1.0->tensorflowjs) (1.12)\n",
            "Requirement already satisfied: grpcio<2.0,>=1.37.0 in /usr/local/lib/python3.7/dist-packages (from tensorflow<3,>=2.1.0->tensorflowjs) (1.41.0)\n",
            "Requirement already satisfied: wrapt~=1.12.1 in /usr/local/lib/python3.7/dist-packages (from tensorflow<3,>=2.1.0->tensorflowjs) (1.12.1)\n",
            "Requirement already satisfied: tensorflow-estimator~=2.6 in /usr/local/lib/python3.7/dist-packages (from tensorflow<3,>=2.1.0->tensorflowjs) (2.6.0)\n",
            "Requirement already satisfied: tensorboard~=2.6 in /usr/local/lib/python3.7/dist-packages (from tensorflow<3,>=2.1.0->tensorflowjs) (2.6.0)\n",
            "Requirement already satisfied: wheel~=0.35 in /usr/local/lib/python3.7/dist-packages (from tensorflow<3,>=2.1.0->tensorflowjs) (0.37.0)\n",
            "Requirement already satisfied: keras~=2.6 in /usr/local/lib/python3.7/dist-packages (from tensorflow<3,>=2.1.0->tensorflowjs) (2.6.0)\n",
            "Requirement already satisfied: opt-einsum~=3.3.0 in /usr/local/lib/python3.7/dist-packages (from tensorflow<3,>=2.1.0->tensorflowjs) (3.3.0)\n",
            "Requirement already satisfied: numpy~=1.19.2 in /usr/local/lib/python3.7/dist-packages (from tensorflow<3,>=2.1.0->tensorflowjs) (1.19.5)\n",
            "Requirement already satisfied: keras-preprocessing~=1.1.2 in /usr/local/lib/python3.7/dist-packages (from tensorflow<3,>=2.1.0->tensorflowjs) (1.1.2)\n",
            "Requirement already satisfied: gast==0.4.0 in /usr/local/lib/python3.7/dist-packages (from tensorflow<3,>=2.1.0->tensorflowjs) (0.4.0)\n",
            "Requirement already satisfied: termcolor~=1.1.0 in /usr/local/lib/python3.7/dist-packages (from tensorflow<3,>=2.1.0->tensorflowjs) (1.1.0)\n",
            "Requirement already satisfied: typing-extensions~=3.7.4 in /usr/local/lib/python3.7/dist-packages (from tensorflow<3,>=2.1.0->tensorflowjs) (3.7.4.3)\n",
            "Requirement already satisfied: astunparse~=1.6.3 in /usr/local/lib/python3.7/dist-packages (from tensorflow<3,>=2.1.0->tensorflowjs) (1.6.3)\n",
            "Requirement already satisfied: h5py~=3.1.0 in /usr/local/lib/python3.7/dist-packages (from tensorflow<3,>=2.1.0->tensorflowjs) (3.1.0)\n",
            "Requirement already satisfied: protobuf>=3.9.2 in /usr/local/lib/python3.7/dist-packages (from tensorflow<3,>=2.1.0->tensorflowjs) (3.17.3)\n",
            "Requirement already satisfied: absl-py~=0.10 in /usr/local/lib/python3.7/dist-packages (from tensorflow<3,>=2.1.0->tensorflowjs) (0.12.0)\n",
            "Requirement already satisfied: cached-property in /usr/local/lib/python3.7/dist-packages (from h5py~=3.1.0->tensorflow<3,>=2.1.0->tensorflowjs) (1.5.2)\n",
            "Requirement already satisfied: google-auth<2,>=1.6.3 in /usr/local/lib/python3.7/dist-packages (from tensorboard~=2.6->tensorflow<3,>=2.1.0->tensorflowjs) (1.35.0)\n",
            "Requirement already satisfied: werkzeug>=0.11.15 in /usr/local/lib/python3.7/dist-packages (from tensorboard~=2.6->tensorflow<3,>=2.1.0->tensorflowjs) (1.0.1)\n",
            "Requirement already satisfied: google-auth-oauthlib<0.5,>=0.4.1 in /usr/local/lib/python3.7/dist-packages (from tensorboard~=2.6->tensorflow<3,>=2.1.0->tensorflowjs) (0.4.6)\n",
            "Requirement already satisfied: markdown>=2.6.8 in /usr/local/lib/python3.7/dist-packages (from tensorboard~=2.6->tensorflow<3,>=2.1.0->tensorflowjs) (3.3.4)\n",
            "Requirement already satisfied: requests<3,>=2.21.0 in /usr/local/lib/python3.7/dist-packages (from tensorboard~=2.6->tensorflow<3,>=2.1.0->tensorflowjs) (2.23.0)\n",
            "Requirement already satisfied: setuptools>=41.0.0 in /usr/local/lib/python3.7/dist-packages (from tensorboard~=2.6->tensorflow<3,>=2.1.0->tensorflowjs) (57.4.0)\n",
            "Requirement already satisfied: tensorboard-plugin-wit>=1.6.0 in /usr/local/lib/python3.7/dist-packages (from tensorboard~=2.6->tensorflow<3,>=2.1.0->tensorflowjs) (1.8.0)\n",
            "Requirement already satisfied: tensorboard-data-server<0.7.0,>=0.6.0 in /usr/local/lib/python3.7/dist-packages (from tensorboard~=2.6->tensorflow<3,>=2.1.0->tensorflowjs) (0.6.1)\n",
            "Requirement already satisfied: cachetools<5.0,>=2.0.0 in /usr/local/lib/python3.7/dist-packages (from google-auth<2,>=1.6.3->tensorboard~=2.6->tensorflow<3,>=2.1.0->tensorflowjs) (4.2.4)\n",
            "Requirement already satisfied: rsa<5,>=3.1.4 in /usr/local/lib/python3.7/dist-packages (from google-auth<2,>=1.6.3->tensorboard~=2.6->tensorflow<3,>=2.1.0->tensorflowjs) (4.7.2)\n",
            "Requirement already satisfied: pyasn1-modules>=0.2.1 in /usr/local/lib/python3.7/dist-packages (from google-auth<2,>=1.6.3->tensorboard~=2.6->tensorflow<3,>=2.1.0->tensorflowjs) (0.2.8)\n",
            "Requirement already satisfied: requests-oauthlib>=0.7.0 in /usr/local/lib/python3.7/dist-packages (from google-auth-oauthlib<0.5,>=0.4.1->tensorboard~=2.6->tensorflow<3,>=2.1.0->tensorflowjs) (1.3.0)\n",
            "Requirement already satisfied: importlib-metadata in /usr/local/lib/python3.7/dist-packages (from markdown>=2.6.8->tensorboard~=2.6->tensorflow<3,>=2.1.0->tensorflowjs) (4.8.1)\n",
            "Requirement already satisfied: pyasn1<0.5.0,>=0.4.6 in /usr/local/lib/python3.7/dist-packages (from pyasn1-modules>=0.2.1->google-auth<2,>=1.6.3->tensorboard~=2.6->tensorflow<3,>=2.1.0->tensorflowjs) (0.4.8)\n",
            "Requirement already satisfied: chardet<4,>=3.0.2 in /usr/local/lib/python3.7/dist-packages (from requests<3,>=2.21.0->tensorboard~=2.6->tensorflow<3,>=2.1.0->tensorflowjs) (3.0.4)\n",
            "Requirement already satisfied: urllib3!=1.25.0,!=1.25.1,<1.26,>=1.21.1 in /usr/local/lib/python3.7/dist-packages (from requests<3,>=2.21.0->tensorboard~=2.6->tensorflow<3,>=2.1.0->tensorflowjs) (1.24.3)\n",
            "Requirement already satisfied: idna<3,>=2.5 in /usr/local/lib/python3.7/dist-packages (from requests<3,>=2.21.0->tensorboard~=2.6->tensorflow<3,>=2.1.0->tensorflowjs) (2.10)\n",
            "Requirement already satisfied: certifi>=2017.4.17 in /usr/local/lib/python3.7/dist-packages (from requests<3,>=2.21.0->tensorboard~=2.6->tensorflow<3,>=2.1.0->tensorflowjs) (2021.5.30)\n",
            "Requirement already satisfied: oauthlib>=3.0.0 in /usr/local/lib/python3.7/dist-packages (from requests-oauthlib>=0.7.0->google-auth-oauthlib<0.5,>=0.4.1->tensorboard~=2.6->tensorflow<3,>=2.1.0->tensorflowjs) (3.1.1)\n",
            "Requirement already satisfied: zipp>=0.5 in /usr/local/lib/python3.7/dist-packages (from importlib-metadata->markdown>=2.6.8->tensorboard~=2.6->tensorflow<3,>=2.1.0->tensorflowjs) (3.6.0)\n"
          ]
        }
      ]
    },
    {
      "cell_type": "code",
      "metadata": {
        "id": "2-HB19wAhgp5",
        "colab": {
          "base_uri": "https://localhost:8080/"
        },
        "outputId": "c8358ee6-cb3c-4206-c55b-c2bdfa4f2e4a"
      },
      "source": [
        "#Crear carpeta donde se colocaran los archivos resultantes\n",
        "!rmdir carpeta_out\n",
        "!mkdir carpeta_out"
      ],
      "execution_count": 62,
      "outputs": [
        {
          "output_type": "stream",
          "name": "stdout",
          "text": [
            "rmdir: failed to remove 'carpeta_out': Directory not empty\n",
            "mkdir: cannot create directory ‘carpeta_out’: File exists\n"
          ]
        }
      ]
    },
    {
      "cell_type": "code",
      "metadata": {
        "id": "ZN7Kkjq1hiec"
      },
      "source": [
        "#Realizar la exportacion a la carpeta de salida\n",
        "!tensorflowjs_converter --input_format keras clima_pisac.h5 carpeta_out"
      ],
      "execution_count": 63,
      "outputs": []
    }
  ]
}